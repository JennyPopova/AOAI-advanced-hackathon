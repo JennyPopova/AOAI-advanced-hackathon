{
 "cells": [
  {
   "cell_type": "markdown",
   "metadata": {},
   "source": [
    "# Assistants function calling with Bing Search\n",
    "In this notebook, we'll show how you can use the [Bing Search APIs](https://www.microsoft.com/bing/apis/llm) and [function calling](https://learn.microsoft.com/azure/ai-services/openai/how-to/function-calling?tabs=python) to ground Azure OpenAI models on data from the web. This is a great way to give the model access to up to date data from the web.\n",
    "\n",
    "You'll need to create a [Bing Search resource](https://learn.microsoft.com/en-us/bing/search-apis/bing-web-search/create-bing-search-service-resource) before you begin."
   ]
  },
  {
   "cell_type": "markdown",
   "metadata": {},
   "source": [
    "### Time\n",
    "\n",
    "You should expect to spend 10 minutes running this sample."
   ]
  },
  {
   "cell_type": "markdown",
   "metadata": {},
   "source": [
    "### Before you begin\n",
    "#### Installation\n",
    "The following packages are required to execute this notebook."
   ]
  },
  {
   "cell_type": "markdown",
   "metadata": {},
   "source": [
    "### Parameters\n",
    "Update the following config to include details of your Azure OpenAI and Bing Search resources"
   ]
  },
  {
   "cell_type": "code",
   "execution_count": 47,
   "metadata": {},
   "outputs": [
    {
     "name": "stdout",
     "output_type": "stream",
     "text": [
      "Found Azure OpenAI API Base Endpoint: https://swed-oai.openai.azure.com/\n"
     ]
    }
   ],
   "source": [
    "import os\n",
    "from dotenv import load_dotenv\n",
    "\n",
    "# Load environment variables\n",
    "if load_dotenv():\n",
    "    print(\"Found Azure OpenAI API Base Endpoint: \" + os.getenv(\"AZURE_OPENAI_ENDPOINT\"))\n",
    "else: \n",
    "    print(\"Azure OpenAI API Base Endpoint not found. Have you configured the .env file?\")"
   ]
  },
  {
   "cell_type": "code",
   "execution_count": 48,
   "metadata": {},
   "outputs": [],
   "source": [
    "azure_endpoint = os.getenv(\"AZURE_OPENAI_ENDPOINT\")\n",
    "api_version = \"2024-02-15-preview\"\n",
    "aoai_api_key = os.getenv(\"AZURE_OPENAI_API_KEY\")\n",
    "deployment_name = os.getenv(\"AZURE_OPENAI_CHAT_MODEL\")\n",
    "bing_search_subscription_key = os.getenv(\"BING_SUBSCRIPTION_KEY\")\n",
    "bing_search_url = \"https://api.bing.microsoft.com/v7.0/search\""
   ]
  },
  {
   "cell_type": "markdown",
   "metadata": {},
   "source": [
    "### Get guest name from file"
   ]
  },
  {
   "cell_type": "code",
   "execution_count": 49,
   "metadata": {},
   "outputs": [
    {
     "name": "stdout",
     "output_type": "stream",
     "text": [
      "Neil deGrasse Tyson\n"
     ]
    }
   ],
   "source": [
    "# Open the file\n",
    "with open('guest_name.txt', 'r') as f:\n",
    "    guest = f.read()\n",
    "\n",
    "# Print the content\n",
    "print(guest)"
   ]
  },
  {
   "cell_type": "markdown",
   "metadata": {},
   "source": [
    "### Define a function to call the Bing Search APIs\n",
    "To learn more about using the Bing Search APIs with Azure OpenAI, see [Bing Search APIs, with your LLM](https://learn.microsoft.com/bing/search-apis/bing-web-search/use-display-requirements-llm)."
   ]
  },
  {
   "cell_type": "code",
   "execution_count": 50,
   "metadata": {},
   "outputs": [],
   "source": [
    "import json\n",
    "import requests\n",
    "import time\n",
    "\n",
    "from openai import AzureOpenAI\n",
    "from pathlib import Path\n",
    "from typing import Optional\n",
    "\n",
    "\n",
    "def search(query: str) -> list:\n",
    "    \"\"\"\n",
    "    Perform a bing search against the given query\n",
    "\n",
    "    @param query: Search query\n",
    "    @return: List of search results\n",
    "\n",
    "    \"\"\"\n",
    "    headers = {\"Ocp-Apim-Subscription-Key\": bing_search_subscription_key}\n",
    "    params = {\"q\": query, \"textDecorations\": False}\n",
    "    response = requests.get(bing_search_url, headers=headers, params=params)\n",
    "    response.raise_for_status()\n",
    "    search_results = response.json()\n",
    "\n",
    "    output = []\n",
    "\n",
    "    for result in search_results[\"webPages\"][\"value\"]:\n",
    "        output.append({\"title\": result[\"name\"], \"link\": result[\"url\"], \"snippet\": result[\"snippet\"]})\n",
    "\n",
    "    return json.dumps(output)"
   ]
  },
  {
   "cell_type": "markdown",
   "metadata": {},
   "source": [
    "### Test Bing Search"
   ]
  },
  {
   "cell_type": "code",
   "execution_count": 51,
   "metadata": {},
   "outputs": [
    {
     "data": {
      "text/plain": [
       "'[{\"title\": \"Neil deGrasse Tyson - Wikipedia\", \"link\": \"https://en.wikipedia.org/wiki/Neil_deGrasse_Tyson\", \"snippet\": \"Neil deGrasse Tyson (US: / d \\\\u0259 \\\\u02c8 \\\\u0261 r \\\\u00e6 s / d\\\\u0259-GRASS or UK: / d \\\\u0259 \\\\u02c8 \\\\u0261 r \\\\u0251\\\\u02d0 s / d\\\\u0259-GRAHSS; born October 5, 1958) is an American astrophysicist, author, and science communicator. Tyson studied at Harvard University , the University of Texas at Austin , and Columbia University .\"}, {\"title\": \"Neil deGrasse Tyson | Biography, Books, TV Shows, & Facts\", \"link\": \"https://www.britannica.com/biography/Neil-deGrasse-Tyson\", \"snippet\": \"Neil deGrasse Tyson (born October 5, 1958, New York, New York, U.S.) American astronomer who popularized science with his books and frequent appearances on radio and television. (Read Neil deGrasse Tyson\\\\u2019s Britannica essay on public science.)\"}, {\"title\": \"Neil deGrasse Tyson - Wikipedia\", \"link\": \"https://nl.wikipedia.org/wiki/Neil_deGrasse_Tyson\", \"snippet\": \"Neil deGrasse Tyson (New York, 5 oktober 1958) is een Amerikaanse astrofysicus en wetenschapscommunicator. Hij houdt zich onder meer bezig met stervorming, exploderende sterren, dwergstelsels en de structuur van de Melkweg.\"}, {\"title\": \"Neil deGrasse Tyson: Biography, Astrophysicist, Cosmos\", \"link\": \"https://www.biography.com/scientists/neil-degrasse-tyson\", \"snippet\": \"Neil deGrasse Tyson is an American astrophysicist who hosted \\'NOVA ScienceNow\\' and makes media appearances to encourage science and space exploration. By Biography.com Editors Updated: Feb 8,...\"}, {\"title\": \"Profile : Neil deGrasse Tyson\", \"link\": \"https://neildegrassetyson.com/profile/\", \"snippet\": \"Tyson is the fifth head of the world-renowned Hayden Planetarium in New York City and the first occupant of its Frederick P. Rose Directorship. He is also a research associate of the Department of Astrophysics at the American Museum of Natural History.\"}, {\"title\": \"About : Neil deGrasse Tyson\", \"link\": \"https://neildegrassetyson.com/about/\", \"snippet\": \"About | Neil deGrasse Tyson. Tyson is the fifth head since 1935 of the world-renowned Hayden Planetarium in New York City and the first occupant of its Frederick P. Rose Directorship. He is also a research associate of the Department of Astrophysics at the American Museum of Natural History. Profile. Curriculum Vitae. Publicity Photos.\"}, {\"title\": \"Curriculum Vitae : Neil deGrasse Tyson\", \"link\": \"https://neildegrassetyson.com/cv/\", \"snippet\": \"Neil deGrasse Tyson. Henry Holt & Company (New York, NY) September 2022 (in press) Starry messenger shines new light on the crucial fault lines of our time\\\\u2014war, politics, religion, truth, beauty, gender, and race\\\\u2014in a way that stimulates a deeper sense of unity for us all.\"}, {\"title\": \"Neil deGrasse Tyson Thinks Science Can Reign Supreme Again\", \"link\": \"https://www.nytimes.com/interactive/2021/04/19/magazine/neil-degrasse-tyson-interview.html\", \"snippet\": \"The astrophysicist, who is 62, has achieved that status through his ever-expanding body of work in television, podcasting, journalism, social media and books (his latest is the new \\\\u201cCosmic...\"}, {\"title\": \"Neil deGrasse Tyson, the Starman | The New Yorker\", \"link\": \"https://www.newyorker.com/magazine/2014/02/17/starman\", \"snippet\": \"It was a mild October day in Hollywood, but a trace of artificial snow remained on the ground as Neil deGrasse Tyson, the director of the Hayden Planetarium, at the American Museum of Natural...\"}, {\"title\": \"Neil deGrasse Tyson - Biography, Facts and Pictures - Famous Scientists\", \"link\": \"https://www.famousscientists.org/neil-degrasse-tyson/\", \"snippet\": \"Born 1958. One of today\\\\u2019s popularizers of science, Neil deGrasse Tyson is a science communicator and known American astrophysicist. Currently, he is the Hayden Planetarium\\\\u2019s Frederick P. Rose director at the Rose Center for Earth and Space. He is also one of the research associates of the American Museum of Natural History\\\\u2019s department of ...\"}]'"
      ]
     },
     "execution_count": 51,
     "metadata": {},
     "output_type": "execute_result"
    }
   ],
   "source": [
    "search(\"Who is \"+guest + \"?\")"
   ]
  },
  {
   "cell_type": "markdown",
   "metadata": {},
   "source": [
    "### Get things running end to end\n",
    "In the following cells, we will define some functions essential for assistants with function calling. All these functions come together in our final cells, where we will define a new web search assistant, give it instructions on its functionality and ask a question."
   ]
  },
  {
   "cell_type": "code",
   "execution_count": 52,
   "metadata": {},
   "outputs": [],
   "source": [
    "def poll_run_till_completion(\n",
    "    client: AzureOpenAI,\n",
    "    thread_id: str,\n",
    "    run_id: str,\n",
    "    available_functions: dict,\n",
    "    verbose: bool,\n",
    "    max_steps: int = 10,\n",
    "    wait: int = 3,\n",
    ") -> None:\n",
    "    \"\"\"\n",
    "    Poll a run until it is completed or failed or exceeds a certain number of iterations (MAX_STEPS)\n",
    "    with a preset wait in between polls\n",
    "\n",
    "    @param client: OpenAI client\n",
    "    @param thread_id: Thread ID\n",
    "    @param run_id: Run ID\n",
    "    @param assistant_id: Assistant ID\n",
    "    @param verbose: Print verbose output\n",
    "    @param max_steps: Maximum number of steps to poll\n",
    "    @param wait: Wait time in seconds between polls\n",
    "\n",
    "    \"\"\"\n",
    "\n",
    "    if (client is None and thread_id is None) or run_id is None:\n",
    "        print(\"Client, Thread ID and Run ID are required.\")\n",
    "        return\n",
    "    try:\n",
    "        cnt = 0\n",
    "        while cnt < max_steps:\n",
    "            run = client.beta.threads.runs.retrieve(thread_id=thread_id, run_id=run_id)\n",
    "            if verbose:\n",
    "                print(\"Poll {}: {}\".format(cnt, run.status))\n",
    "            cnt += 1\n",
    "            if run.status == \"requires_action\":\n",
    "                tool_responses = []\n",
    "                if (\n",
    "                    run.required_action.type == \"submit_tool_outputs\"\n",
    "                    and run.required_action.submit_tool_outputs.tool_calls is not None\n",
    "                ):\n",
    "                    tool_calls = run.required_action.submit_tool_outputs.tool_calls\n",
    "\n",
    "                    for call in tool_calls:\n",
    "                        if call.type == \"function\":\n",
    "                            if call.function.name not in available_functions:\n",
    "                                raise Exception(\"Function requested by the model does not exist\")\n",
    "                            function_to_call = available_functions[call.function.name]\n",
    "                            tool_response = function_to_call(**json.loads(call.function.arguments))\n",
    "                            tool_responses.append({\"tool_call_id\": call.id, \"output\": tool_response})\n",
    "\n",
    "                run = client.beta.threads.runs.submit_tool_outputs(\n",
    "                    thread_id=thread_id, run_id=run.id, tool_outputs=tool_responses\n",
    "                )\n",
    "            if run.status == \"failed\":\n",
    "                print(\"Run failed.\")\n",
    "                break\n",
    "            if run.status == \"completed\":\n",
    "                break\n",
    "            time.sleep(wait)\n",
    "\n",
    "    except Exception as e:\n",
    "        print(e)"
   ]
  },
  {
   "cell_type": "code",
   "execution_count": 53,
   "metadata": {},
   "outputs": [],
   "source": [
    "def create_message(\n",
    "    client: AzureOpenAI,\n",
    "    thread_id: str,\n",
    "    role: str = \"\",\n",
    "    content: str = \"\",\n",
    "    file_ids: Optional[list] = None,\n",
    "    metadata: Optional[dict] = None,\n",
    "    message_id: Optional[str] = None,\n",
    ") -> any:\n",
    "    \"\"\"\n",
    "    Create a message in a thread using the client.\n",
    "\n",
    "    @param client: OpenAI client\n",
    "    @param thread_id: Thread ID\n",
    "    @param role: Message role (user or assistant)\n",
    "    @param content: Message content\n",
    "    @param file_ids: Message file IDs\n",
    "    @param metadata: Message metadata\n",
    "    @param message_id: Message ID\n",
    "    @return: Message object\n",
    "\n",
    "    \"\"\"\n",
    "    if metadata is None:\n",
    "        metadata = {}\n",
    "    if file_ids is None:\n",
    "        file_ids = []\n",
    "\n",
    "    if client is None:\n",
    "        print(\"Client parameter is required.\")\n",
    "        return None\n",
    "\n",
    "    if thread_id is None:\n",
    "        print(\"Thread ID is required.\")\n",
    "        return None\n",
    "\n",
    "    try:\n",
    "        if message_id is not None:\n",
    "            return client.beta.threads.messages.retrieve(thread_id=thread_id, message_id=message_id)\n",
    "\n",
    "        if file_ids is not None and len(file_ids) > 0 and metadata is not None and len(metadata) > 0:\n",
    "            return client.beta.threads.messages.create(\n",
    "                thread_id=thread_id, role=role, content=content, file_ids=file_ids, metadata=metadata\n",
    "            )\n",
    "\n",
    "        if file_ids is not None and len(file_ids) > 0:\n",
    "            return client.beta.threads.messages.create(\n",
    "                thread_id=thread_id, role=role, content=content, file_ids=file_ids\n",
    "            )\n",
    "\n",
    "        if metadata is not None and len(metadata) > 0:\n",
    "            return client.beta.threads.messages.create(\n",
    "                thread_id=thread_id, role=role, content=content, metadata=metadata\n",
    "            )\n",
    "\n",
    "        return client.beta.threads.messages.create(thread_id=thread_id, role=role, content=content)\n",
    "\n",
    "    except Exception as e:\n",
    "        print(e)\n",
    "        return None"
   ]
  },
  {
   "cell_type": "code",
   "execution_count": 54,
   "metadata": {},
   "outputs": [],
   "source": [
    "def retrieve_and_print_messages(\n",
    "    client: AzureOpenAI, thread_id: str, verbose: bool, out_dir: Optional[str] = None\n",
    ") -> any:\n",
    "    \"\"\"\n",
    "    Retrieve a list of messages in a thread and print it out with the query and response\n",
    "\n",
    "    @param client: OpenAI client\n",
    "    @param thread_id: Thread ID\n",
    "    @param verbose: Print verbose output\n",
    "    @param out_dir: Output directory to save images\n",
    "    @return: Messages object\n",
    "\n",
    "    \"\"\"\n",
    "\n",
    "    if client is None and thread_id is None:\n",
    "        print(\"Client and Thread ID are required.\")\n",
    "        return None\n",
    "    try:\n",
    "        messages = client.beta.threads.messages.list(thread_id=thread_id)\n",
    "        display_role = {\"user\": \"User query\", \"assistant\": \"Assistant response\"}\n",
    "\n",
    "        prev_role = None\n",
    "\n",
    "        if verbose:\n",
    "            print(\"\\n\\nCONVERSATION:\")\n",
    "        for md in reversed(messages.data):\n",
    "            if prev_role == \"assistant\" and md.role == \"user\" and verbose:\n",
    "                print(\"------ \\n\")\n",
    "\n",
    "            for mc in md.content:\n",
    "                # Check if valid text field is present in the mc object\n",
    "                if mc.type == \"text\":\n",
    "                    txt_val = mc.text.value\n",
    "                # Check if valid image field is present in the mc object\n",
    "                elif mc.type == \"image_file\":\n",
    "                    image_data = client.files.content(mc.image_file.file_id)\n",
    "                    if out_dir is not None:\n",
    "                        out_dir_path = Path(out_dir)\n",
    "                        if out_dir_path.exists():\n",
    "                            image_path = out_dir_path / (mc.image_file.file_id + \".png\")\n",
    "                            with image_path.open(\"wb\") as f:\n",
    "                                f.write(image_data.read())\n",
    "\n",
    "                if verbose:\n",
    "                    if prev_role == md.role:\n",
    "                        print(txt_val)\n",
    "                    else:\n",
    "                        print(\"{}:\\n{}\".format(display_role[md.role], txt_val))\n",
    "            prev_role = md.role\n",
    "        return messages\n",
    "    except Exception as e:\n",
    "        print(e)\n",
    "        return None"
   ]
  },
  {
   "cell_type": "markdown",
   "metadata": {},
   "source": [
    "### Define parameters and tools for the Assistant"
   ]
  },
  {
   "cell_type": "code",
   "execution_count": 55,
   "metadata": {},
   "outputs": [],
   "source": [
    "name = \"websearch-assistant\"\n",
    "instructions = \"\"\"You are an assistant designed to help people answer questions.\n",
    "\n",
    "You have access to query the web using Bing Search. You should call bing search whenever a question requires up to date information or could benefit from web data.\n",
    "\"\"\"\n",
    "\n",
    "tools = [\n",
    "    {\n",
    "        \"type\": \"function\",\n",
    "        \"function\": {\n",
    "            \"name\": \"search_bing\",\n",
    "            \"description\": \"Searches bing to get up-to-date information from the web.\",\n",
    "            \"parameters\": {\n",
    "                \"type\": \"object\",\n",
    "                \"properties\": {\n",
    "                    \"query\": {\n",
    "                        \"type\": \"string\",\n",
    "                        \"description\": \"The search query\",\n",
    "                    }\n",
    "                },\n",
    "                \"required\": [\"query\"],\n",
    "            },\n",
    "        },\n",
    "    }\n",
    "]\n"
   ]
  },
  {
   "cell_type": "markdown",
   "metadata": {},
   "source": [
    "### Create user request / prompt"
   ]
  },
  {
   "cell_type": "code",
   "execution_count": 56,
   "metadata": {},
   "outputs": [],
   "source": [
    "message = {\"role\": \"user\", \"content\": \"Who is \"+guest + \"?\"}"
   ]
  },
  {
   "cell_type": "markdown",
   "metadata": {},
   "source": [
    "### Call the Assistant"
   ]
  },
  {
   "cell_type": "code",
   "execution_count": 57,
   "metadata": {},
   "outputs": [
    {
     "name": "stdout",
     "output_type": "stream",
     "text": [
      "Poll 0: queued\n",
      "Poll 1: in_progress\n",
      "Poll 2: in_progress\n",
      "Poll 3: in_progress\n",
      "Poll 4: in_progress\n",
      "Poll 5: in_progress\n",
      "Poll 6: in_progress\n",
      "Poll 7: completed\n",
      "\n",
      "\n",
      "CONVERSATION:\n",
      "User query:\n",
      "Who is Neil deGrasse Tyson?\n",
      "Assistant response:\n",
      "Neil deGrasse Tyson is an American astrophysicist, author, and science communicator. He was born on October 5, 1958, in Manhattan, New York, NY. He is well known for his role as the host of the television show \"Cosmos: A Spacetime Odyssey,\" which is a reboot of Carl Sagan's original series \"Cosmos: A Personal Voyage.\"\n",
      "\n",
      "Tyson's research has focused on star formation, dwarf galaxies, and the Milky Way's structure. He has written several books about astronomy and science for the general public, making complex concepts accessible to non-scientists.\n",
      "\n",
      "Tyson is also the Frederick P. Rose Director of the Hayden Planetarium at the Rose Center for Earth and Space in New York City. He has been a regular guest on talk shows, radio shows, and other media outlets, discussing the significance of space and science in the modern day.\n"
     ]
    }
   ],
   "source": [
    "available_functions = {\"search_bing\": search}\n",
    "verbose_output = True\n",
    "\n",
    "client = AzureOpenAI(api_key=aoai_api_key, api_version=api_version, azure_endpoint=azure_endpoint)\n",
    "\n",
    "assistant = client.beta.assistants.create(\n",
    "    name=name, description=\"\", instructions=instructions, tools=tools, model=deployment_name\n",
    ")\n",
    "\n",
    "thread = client.beta.threads.create()\n",
    "create_message(client, thread.id, message[\"role\"], message[\"content\"])\n",
    "\n",
    "\n",
    "run = client.beta.threads.runs.create(thread_id=thread.id, assistant_id=assistant.id, instructions=instructions)\n",
    "poll_run_till_completion(\n",
    "    client=client, thread_id=thread.id, run_id=run.id, available_functions=available_functions, verbose=verbose_output\n",
    ")\n",
    "messages = retrieve_and_print_messages(client=client, thread_id=thread.id, verbose=verbose_output)"
   ]
  },
  {
   "cell_type": "markdown",
   "metadata": {},
   "source": [
    "### Extract text value out of the response"
   ]
  },
  {
   "cell_type": "code",
   "execution_count": 58,
   "metadata": {},
   "outputs": [
    {
     "name": "stdout",
     "output_type": "stream",
     "text": [
      "Neil deGrasse Tyson is an American astrophysicist, author, and science communicator. He was born on October 5, 1958, in Manhattan, New York, NY. He is well known for his role as the host of the television show \"Cosmos: A Spacetime Odyssey,\" which is a reboot of Carl Sagan's original series \"Cosmos: A Personal Voyage.\"\n",
      "\n",
      "Tyson's research has focused on star formation, dwarf galaxies, and the Milky Way's structure. He has written several books about astronomy and science for the general public, making complex concepts accessible to non-scientists.\n",
      "\n",
      "Tyson is also the Frederick P. Rose Director of the Hayden Planetarium at the Rose Center for Earth and Space in New York City. He has been a regular guest on talk shows, radio shows, and other media outlets, discussing the significance of space and science in the modern day.\n"
     ]
    }
   ],
   "source": [
    "bio = messages.data[0].content[0].text.value\n",
    "print(bio)"
   ]
  },
  {
   "cell_type": "markdown",
   "metadata": {},
   "source": [
    "### Save the biography in file"
   ]
  },
  {
   "cell_type": "code",
   "execution_count": 59,
   "metadata": {},
   "outputs": [],
   "source": [
    "# Specify the file path\n",
    "file_path = \"bio.txt\"\n",
    "\n",
    "# Write the content to the file\n",
    "with open(file_path, \"w\") as file:\n",
    "    file.write(bio)"
   ]
  }
 ],
 "metadata": {
  "kernelspec": {
   "display_name": "base",
   "language": "python",
   "name": "python3"
  },
  "language_info": {
   "codemirror_mode": {
    "name": "ipython",
    "version": 3
   },
   "file_extension": ".py",
   "mimetype": "text/x-python",
   "name": "python",
   "nbconvert_exporter": "python",
   "pygments_lexer": "ipython3",
   "version": "3.10.13"
  }
 },
 "nbformat": 4,
 "nbformat_minor": 2
}
