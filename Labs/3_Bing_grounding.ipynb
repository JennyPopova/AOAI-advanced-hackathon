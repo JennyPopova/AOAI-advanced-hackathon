{
  "cells": [
    {
      "cell_type": "markdown",
      "metadata": {
        "nteract": {
          "transient": {
            "deleting": false
          }
        }
      },
      "source": [
        "## Introduction\n",
        "\n",
        "### Bing Search API:\n",
        "The Bing Search API is a powerful tool provided by Microsoft, enabling developers to integrate Bing's search capabilities directly into their applications. This API allows access to a wide range of search results, including web pages, images, videos, and news, providing developers with a seamless way to incorporate Bing's search functionality into their own projects.\n",
        "\n",
        "### Transform Chain in LangChain:\n",
        "**Langchain** is a Python library that allows you to create powerful applications using language models and prompts.\n",
        "Langchain's **Transform Chain** is a dynamic and versatile feature that facilitates the seamless transformation of text data. Through a series of customizable linguistic operations, developers can construct intricate text processing pipelines. This transformative chain empowers users to preprocess, analyze, and manipulate textual information efficiently, offering a flexible and scalable solution for diverse language processing tasks within the Langchain framework.\n",
        "\n",
        "## Objective\n",
        "1. To setup a request to call Bing API\n",
        "2. To parse the Bing search response for Bio\n",
        "3. To setup Transform chain and execute for grounding the Bio"
      ]
    },
    {
      "cell_type": "markdown",
      "metadata": {},
      "source": [
        "### Import Libararies"
      ]
    },
    {
      "cell_type": "code",
      "execution_count": 7,
      "metadata": {
        "gather": {
          "logged": 1710955352321
        },
        "jupyter": {
          "outputs_hidden": false,
          "source_hidden": false
        },
        "nteract": {
          "transient": {
            "deleting": false
          }
        }
      },
      "outputs": [],
      "source": [
        "from langchain.chains import TransformChain\n",
        "import requests\n",
        "import json\n",
        "from openai import AzureOpenAI"
      ]
    },
    {
      "cell_type": "markdown",
      "metadata": {},
      "source": [
        "### Get Environment variables"
      ]
    },
    {
      "cell_type": "code",
      "execution_count": 2,
      "metadata": {
        "gather": {
          "logged": 1710955262803
        },
        "jupyter": {
          "outputs_hidden": false,
          "source_hidden": false
        },
        "nteract": {
          "transient": {
            "deleting": false
          }
        }
      },
      "outputs": [
        {
          "name": "stdout",
          "output_type": "stream",
          "text": [
            "Found Azure OpenAI API Base Endpoint: https://swed-oai.openai.azure.com/\n"
          ]
        }
      ],
      "source": [
        "import os\n",
        "from dotenv import load_dotenv\n",
        "\n",
        "# Load environment variables\n",
        "if load_dotenv():\n",
        "    print(\"Found Azure OpenAI API Base Endpoint: \" + os.getenv(\"AZURE_OPENAI_ENDPOINT\"))\n",
        "else: \n",
        "    print(\"Azure OpenAI API Base Endpoint not found. Have you configured the .env file?\")\n"
      ]
    },
    {
      "cell_type": "code",
      "execution_count": 3,
      "metadata": {
        "gather": {
          "logged": 1710955265935
        },
        "jupyter": {
          "outputs_hidden": false,
          "source_hidden": false
        },
        "nteract": {
          "transient": {
            "deleting": false
          }
        }
      },
      "outputs": [],
      "source": [
        "bing_search_url = \"https://api.bing.microsoft.com/v7.0/search\"\n",
        "bing_subscription_key = os.getenv(\"BING_SUBSCRIPTION_KEY\")"
      ]
    },
    {
      "cell_type": "markdown",
      "metadata": {},
      "source": [
        "### Get Guest name from file"
      ]
    },
    {
      "cell_type": "code",
      "execution_count": 4,
      "metadata": {
        "gather": {
          "logged": 1710955272314
        },
        "jupyter": {
          "outputs_hidden": false,
          "source_hidden": false
        },
        "nteract": {
          "transient": {
            "deleting": false
          }
        }
      },
      "outputs": [
        {
          "name": "stdout",
          "output_type": "stream",
          "text": [
            "Neil deGrasse Tyson\n"
          ]
        }
      ],
      "source": [
        "# Open the file\n",
        "with open('guest_name.txt', 'r') as f:\n",
        "    guest = f.read()\n",
        "\n",
        "# Print the content\n",
        "print(guest)"
      ]
    },
    {
      "cell_type": "markdown",
      "metadata": {},
      "source": [
        "## 1. Test Bing Search "
      ]
    },
    {
      "cell_type": "markdown",
      "metadata": {},
      "source": [
        "### Define function to perform Bing search"
      ]
    },
    {
      "cell_type": "code",
      "execution_count": 8,
      "metadata": {},
      "outputs": [],
      "source": [
        "def search_bing(query):\n",
        "    \"\"\"\n",
        "    Perform a bing search against the given query\n",
        "\n",
        "    @param query: Search query\n",
        "    @return: List of search results\n",
        "\n",
        "    \"\"\"\n",
        "    headers = {\"Ocp-Apim-Subscription-Key\": bing_subscription_key}\n",
        "    params = {\"q\": query, \"textDecorations\": False}\n",
        "    response = requests.get(bing_search_url, headers=headers, params=params)\n",
        "    response.raise_for_status()\n",
        "    search_results = response.json()\n",
        "\n",
        "    output = []\n",
        "\n",
        "    for result in search_results[\"webPages\"][\"value\"]:\n",
        "        output.append({\"title\": result[\"name\"], \"link\": result[\"url\"], \"snippet\": result[\"snippet\"]})\n",
        "\n",
        "    return json.dumps(output)"
      ]
    },
    {
      "cell_type": "markdown",
      "metadata": {},
      "source": [
        "### Test Bing search and evaluate the search results"
      ]
    },
    {
      "cell_type": "code",
      "execution_count": 9,
      "metadata": {},
      "outputs": [
        {
          "data": {
            "text/plain": [
              "'[{\"title\": \"Neil deGrasse Tyson - Wikipedia\", \"link\": \"https://en.wikipedia.org/wiki/Neil_deGrasse_Tyson\", \"snippet\": \"Neil deGrasse Tyson (US: / d \\\\u0259 \\\\u02c8 \\\\u0261 r \\\\u00e6 s / d\\\\u0259-GRASS or UK: / d \\\\u0259 \\\\u02c8 \\\\u0261 r \\\\u0251\\\\u02d0 s / d\\\\u0259-GRAHSS; born October 5, 1958) is an American astrophysicist, author, and science communicator. Tyson studied at Harvard University , the University of Texas at Austin , and Columbia University .\"}, {\"title\": \"Neil deGrasse Tyson | Biography, Books, TV Shows, & Facts\", \"link\": \"https://www.britannica.com/biography/Neil-deGrasse-Tyson\", \"snippet\": \"Neil deGrasse Tyson (born October 5, 1958, New York, New York, U.S.) American astronomer who popularized science with his books and frequent appearances on radio and television. (Read Neil deGrasse Tyson\\\\u2019s Britannica essay on public science.)\"}, {\"title\": \"Neil deGrasse Tyson - Wikipedia\", \"link\": \"https://nl.wikipedia.org/wiki/Neil_deGrasse_Tyson\", \"snippet\": \"Neil deGrasse Tyson (New York, 5 oktober 1958) is een Amerikaanse astrofysicus en wetenschapscommunicator. Hij houdt zich onder meer bezig met stervorming, exploderende sterren, dwergstelsels en de structuur van de Melkweg.\"}, {\"title\": \"Neil deGrasse Tyson: Biography, Astrophysicist, Cosmos\", \"link\": \"https://www.biography.com/scientists/neil-degrasse-tyson\", \"snippet\": \"Neil deGrasse Tyson is an American astrophysicist who hosted \\'NOVA ScienceNow\\' and makes media appearances to encourage science and space exploration. By Biography.com Editors Updated: Feb 8,...\"}, {\"title\": \"Profile : Neil deGrasse Tyson\", \"link\": \"https://neildegrassetyson.com/profile/\", \"snippet\": \"Tyson is the fifth head of the world-renowned Hayden Planetarium in New York City and the first occupant of its Frederick P. Rose Directorship. He is also a research associate of the Department of Astrophysics at the American Museum of Natural History.\"}, {\"title\": \"About : Neil deGrasse Tyson\", \"link\": \"https://neildegrassetyson.com/about/\", \"snippet\": \"About | Neil deGrasse Tyson. Tyson is the fifth head since 1935 of the world-renowned Hayden Planetarium in New York City and the first occupant of its Frederick P. Rose Directorship. He is also a research associate of the Department of Astrophysics at the American Museum of Natural History. Profile. Curriculum Vitae. Publicity Photos.\"}, {\"title\": \"Curriculum Vitae : Neil deGrasse Tyson\", \"link\": \"https://neildegrassetyson.com/cv/\", \"snippet\": \"Neil deGrasse Tyson. Henry Holt & Company (New York, NY) September 2022 (in press) Starry messenger shines new light on the crucial fault lines of our time\\\\u2014war, politics, religion, truth, beauty, gender, and race\\\\u2014in a way that stimulates a deeper sense of unity for us all.\"}, {\"title\": \"Neil deGrasse Tyson Thinks Science Can Reign Supreme Again\", \"link\": \"https://www.nytimes.com/interactive/2021/04/19/magazine/neil-degrasse-tyson-interview.html\", \"snippet\": \"The astrophysicist, who is 62, has achieved that status through his ever-expanding body of work in television, podcasting, journalism, social media and books (his latest is the new \\\\u201cCosmic...\"}, {\"title\": \"Neil deGrasse Tyson, the Starman | The New Yorker\", \"link\": \"https://www.newyorker.com/magazine/2014/02/17/starman\", \"snippet\": \"It was a mild October day in Hollywood, but a trace of artificial snow remained on the ground as Neil deGrasse Tyson, the director of the Hayden Planetarium, at the American Museum of Natural...\"}, {\"title\": \"Neil deGrasse Tyson - Biography, Facts and Pictures - Famous Scientists\", \"link\": \"https://www.famousscientists.org/neil-degrasse-tyson/\", \"snippet\": \"Born 1958. One of today\\\\u2019s popularizers of science, Neil deGrasse Tyson is a science communicator and known American astrophysicist. Currently, he is the Hayden Planetarium\\\\u2019s Frederick P. Rose director at the Rose Center for Earth and Space. He is also one of the research associates of the American Museum of Natural History\\\\u2019s department of ...\"}]'"
            ]
          },
          "execution_count": 9,
          "metadata": {},
          "output_type": "execute_result"
        }
      ],
      "source": [
        "search_bing(\"Who is \"+guest+\"?\")"
      ]
    },
    {
      "cell_type": "markdown",
      "metadata": {},
      "source": [
        "## 2. Test GPT model without grounding"
      ]
    },
    {
      "cell_type": "markdown",
      "metadata": {},
      "source": [
        "### Create a prompt for GPT model"
      ]
    },
    {
      "cell_type": "code",
      "execution_count": 10,
      "metadata": {},
      "outputs": [],
      "source": [
        "#messages = [{\"role\": \"user\", \"content\": \"Provide a very short biography of \"+guest + \" including lates events\"}]\n",
        "messages = [{\"role\": \"user\", \"content\": \"Who is \"+guest+\"?\"}]"
      ]
    },
    {
      "cell_type": "markdown",
      "metadata": {},
      "source": [
        "### Connect to Azure OpenAI service"
      ]
    },
    {
      "cell_type": "code",
      "execution_count": 13,
      "metadata": {},
      "outputs": [
        {
          "name": "stdout",
          "output_type": "stream",
          "text": [
            "gpt-4\n"
          ]
        }
      ],
      "source": [
        "client = AzureOpenAI(\n",
        "    azure_endpoint = os.getenv(\"AZURE_OPENAI_ENDPOINT\"),\n",
        "    api_key = os.getenv(\"AZURE_OPENAI_API_KEY\"),\n",
        "    api_version = \"2023-12-01-preview\"\n",
        ")\n",
        "model =  os.getenv(\"AZURE_OPENAI_CHAT_MODEL\")\n",
        "print(model)"
      ]
    },
    {
      "cell_type": "markdown",
      "metadata": {},
      "source": [
        "### Send request to GPT model"
      ]
    },
    {
      "cell_type": "code",
      "execution_count": 14,
      "metadata": {},
      "outputs": [
        {
          "name": "stdout",
          "output_type": "stream",
          "text": [
            "Neil deGrasse Tyson is an American astrophysicist, cosmologist, author, and science communicator. He is best known for his role as the host of the television show \"Cosmos: A Spacetime Odyssey,\" where he presented scientific concepts in an understandable and exciting way to the general public. Tyson also serves as the director of the Hayden Planetarium at the Rose Center for Earth and Space in New York City. In addition, he is a prolific author who has written numerous books and papers about space and science. Tyson's passion and enthusiasm for science has made him a popular figure among both scientists and science enthusiasts. He's known for his ability to explain complex scientific concepts in a clear and entertaining way.\n",
            "\n"
          ]
        }
      ],
      "source": [
        "gpt_response = client.chat.completions.create(\n",
        "            model=model,\n",
        "            messages=messages,\n",
        "        )  \n",
        "    \n",
        "bio = gpt_response.choices[0].message.content\n",
        "print(bio)"
      ]
    },
    {
      "cell_type": "markdown",
      "metadata": {},
      "source": [
        "## 3. Grounding with Function Calling"
      ]
    },
    {
      "cell_type": "markdown",
      "metadata": {},
      "source": [
        "### Define Tools for GPT model, that include Bing search function"
      ]
    },
    {
      "cell_type": "code",
      "execution_count": 15,
      "metadata": {},
      "outputs": [],
      "source": [
        "#messages = [{\"role\": \"user\", \"content\": \"Provide the latest information about \"+guest}]\n",
        "\n",
        "tools = [\n",
        "    {\n",
        "        \"type\": \"function\",\n",
        "        \"function\": {\n",
        "            \"name\": \"search_bing\",\n",
        "            \"description\": \"Searches bing to get up-to-date information about people\",\n",
        "            \"parameters\": {\n",
        "                \"type\": \"object\",\n",
        "                \"properties\": {\n",
        "                    \"query\": {\n",
        "                        \"type\": \"string\",\n",
        "                        \"description\": \"The search query\",\n",
        "                    }\n",
        "                },\n",
        "                \"required\": [\"query\"],\n",
        "            },\n",
        "        },\n",
        "    }\n",
        "]"
      ]
    },
    {
      "cell_type": "markdown",
      "metadata": {},
      "source": [
        "### Send request to GPT model and see if there any tools calling"
      ]
    },
    {
      "cell_type": "code",
      "execution_count": 16,
      "metadata": {},
      "outputs": [
        {
          "name": "stdout",
          "output_type": "stream",
          "text": [
            "ChatCompletionMessage(content=None, role='assistant', function_call=None, tool_calls=[ChatCompletionMessageToolCall(id='call_lWEUb2sV608onDmfoPlr6OSd', function=Function(arguments='{\\n  \"query\": \"Neil deGrasse Tyson\"\\n}', name='search_bing'), type='function')])\n",
            "[ChatCompletionMessageToolCall(id='call_lWEUb2sV608onDmfoPlr6OSd', function=Function(arguments='{\\n  \"query\": \"Neil deGrasse Tyson\"\\n}', name='search_bing'), type='function')]\n"
          ]
        }
      ],
      "source": [
        "response = client.chat.completions.create(\n",
        "        model=model,\n",
        "        messages=messages,\n",
        "        tools=tools,\n",
        "        tool_choice=\"auto\",  # auto is default, but we'll be explicit\n",
        "        )\n",
        "\n",
        "response_message = response.choices[0].message\n",
        "tool_calls = response_message.tool_calls\n",
        "print(response_message)\n",
        "print(tool_calls)"
      ]
    },
    {
      "cell_type": "markdown",
      "metadata": {},
      "source": [
        "### Go through function calling and extract messages to see Bing search results"
      ]
    },
    {
      "cell_type": "code",
      "execution_count": 17,
      "metadata": {},
      "outputs": [
        {
          "name": "stdout",
          "output_type": "stream",
          "text": [
            "[{'role': 'user', 'content': 'Who is Neil deGrasse Tyson?'}, ChatCompletionMessage(content=None, role='assistant', function_call=None, tool_calls=[ChatCompletionMessageToolCall(id='call_lWEUb2sV608onDmfoPlr6OSd', function=Function(arguments='{\\n  \"query\": \"Neil deGrasse Tyson\"\\n}', name='search_bing'), type='function')]), {'tool_call_id': 'call_lWEUb2sV608onDmfoPlr6OSd', 'role': 'tool', 'name': 'search_bing', 'content': '[{\"title\": \"Neil deGrasse Tyson - Wikipedia\", \"link\": \"https://en.wikipedia.org/wiki/Neil_deGrasse_Tyson\", \"snippet\": \"Neil deGrasse Tyson (US: / d \\\\u0259 \\\\u02c8 \\\\u0261 r \\\\u00e6 s / d\\\\u0259-GRASS or UK: / d \\\\u0259 \\\\u02c8 \\\\u0261 r \\\\u0251\\\\u02d0 s / d\\\\u0259-GRAHSS; born October 5, 1958) is an American astrophysicist, author, and science communicator. Tyson studied at Harvard University , the University of Texas at Austin , and Columbia University .\"}, {\"title\": \"Neil deGrasse Tyson - Wikipedia\", \"link\": \"https://nl.wikipedia.org/wiki/Neil_deGrasse_Tyson\", \"snippet\": \"Neil deGrasse Tyson (New York, 5 oktober 1958) is een Amerikaanse astrofysicus en wetenschapscommunicator. Hij houdt zich onder meer bezig met stervorming, exploderende sterren, dwergstelsels en de structuur van de Melkweg.\"}, {\"title\": \"Neil deGrasse Tyson\", \"link\": \"https://neildegrassetyson.com/\", \"snippet\": \"\\\\u00a9 2024 Neil deGrasse Tyson\"}, {\"title\": \"Neil deGrasse Tyson | Biography, Books, TV Shows, & Facts\", \"link\": \"https://www.britannica.com/biography/Neil-deGrasse-Tyson\", \"snippet\": \"Neil deGrasse Tyson, American astronomer who popularized science with his books and frequent appearances on radio and television. He hosted such TV series as Origins and NOVA scienceNOW as well as the radio show StarTalk. His books included The Pluto Files: The Rise and Fall of America\\\\u2019s Favorite Planet.\"}, {\"title\": \"Profile : Neil deGrasse Tyson\", \"link\": \"https://neildegrassetyson.com/profile/\", \"snippet\": \"Learn about Neil deGrasse Tyson\\'s life, achievements, and books. He is a renowned scientist, educator, and communicator of science, who has hosted Cosmos, StarTalk, and other shows and projects.\"}, {\"title\": \"Curriculum Vitae : Neil deGrasse Tyson\", \"link\": \"https://neildegrassetyson.com/cv/\", \"snippet\": \"Curriculum Vitae | Neil deGrasse Tyson. Contents. Summary. Education. Employment History. Research Publications. Books. Chapters and Forewords. Assorted Writing. Major Media Appearances. Assorted Film Appearances. Assorted Television Appearances. Notable Script References. Professional Societies. Selected Honors. Honorary Doctorates. Grants Awarded\"}, {\"title\": \"Neil deGrasse Tyson: Biography, Astrophysicist, Cosmos\", \"link\": \"https://www.biography.com/scientists/neil-degrasse-tyson\", \"snippet\": \"Learn about the life and career of Neil deGrasse Tyson, an American astrophysicist who hosts Cosmos and StarTalk. Find out his achievements, controversies, and personal details.\"}, {\"title\": \"Neil deGrasse Tyson Thinks Science Can Reign Supreme Again\", \"link\": \"https://www.nytimes.com/interactive/2021/04/19/magazine/neil-degrasse-tyson-interview.html\", \"snippet\": \"The astrophysicist, who is 62, has achieved that status through his ever-expanding body of work in television, podcasting, journalism, social media and books (his latest is the new \\\\u201cCosmic...\"}, {\"title\": \"Neil deGrasse Tyson | The Planetary Society\", \"link\": \"https://www.planetary.org/profiles/neil-tyson\", \"snippet\": \"Learn about the astrophysicist and director of the Hayden Planetarium, Neil deGrasse Tyson, who is also a board member of The Planetary Society. Find out his research interests, education, publications, and public appearances on space exploration and science.\"}, {\"title\": \"How Developments In Nuclear Fusion Change Everything | Neil deGrasse ...\", \"link\": \"https://www.youtube.com/watch?v=4s2ynUAJ5ZU\", \"snippet\": \"Neil deGrasse Tyson and Chuck Nice discuss the Department of Energy\\\\u2019s breakthrough in nuclear fusion and what it means for our energy future. Can we do nuclear fusion in a controlled setting?...\"}]'}]\n"
          ]
        }
      ],
      "source": [
        "if tool_calls:\n",
        "        # Step 3: call the function\n",
        "        # Note: the JSON response may not always be valid; be sure to handle errors\n",
        "        available_functions = {\n",
        "            \"search_bing\": search_bing,\n",
        "        }  # only one function in this example, but you can have multiple\n",
        "        messages.append(response_message)  # extend conversation with assistant's reply\n",
        "        # Step 4: send the info for each function call and function response to the model\n",
        "        for tool_call in tool_calls:\n",
        "            function_name = tool_call.function.name\n",
        "            function_to_call = available_functions[function_name]\n",
        "            function_args = json.loads(tool_call.function.arguments)\n",
        "            function_response = function_to_call(\n",
        "                query=function_args.get(\"query\")\n",
        "            )\n",
        "            messages.append(\n",
        "                {\n",
        "                    \"tool_call_id\": tool_call.id,\n",
        "                    \"role\": \"tool\",\n",
        "                    \"name\": function_name,\n",
        "                    \"content\": function_response,\n",
        "                }\n",
        "            )  # extend conversation with function response\n",
        "print(messages)"
      ]
    },
    {
      "cell_type": "markdown",
      "metadata": {},
      "source": [
        "### Ask GPT model to generate short bio of the person based on search results"
      ]
    },
    {
      "cell_type": "code",
      "execution_count": 18,
      "metadata": {},
      "outputs": [
        {
          "name": "stdout",
          "output_type": "stream",
          "text": [
            "Neil deGrasse Tyson is an American astrophysicist, author, and science communicator. Born on October 5, 1958, he has studied at Harvard University, the University of Texas at Austin, and Columbia University. Tyson has made a significant impact on the field of astronomy by popularizing science through his books and frequent appearances on radio and television. He has hosted TV series such as Origins and NOVA scienceNOW, as well as the radio show StarTalk. One of his noted books is \"The Pluto Files: The Rise and Fall of America's Favorite Planet\". Tyson is also the director of the Hayden Planetarium and a board member of The Planetary Society.\n"
          ]
        }
      ],
      "source": [
        "second_response = client.chat.completions.create(\n",
        "            model=model,\n",
        "            messages=messages,\n",
        "        )  # get a new response from the model where it can see the function response\n",
        "    \n",
        "bio = second_response.choices[0].message.content\n",
        "print(bio)"
      ]
    },
    {
      "cell_type": "markdown",
      "metadata": {},
      "source": [
        "### Compare with non grounded answer\n",
        "Neil deGrasse Tyson is an American astrophysicist, cosmologist, author, and science communicator. He is best known for his role as the host of the television show \"Cosmos: A Spacetime Odyssey,\" where he presented scientific concepts in an understandable and exciting way to the general public. Tyson also serves as the director of the Hayden Planetarium at the Rose Center for Earth and Space in New York City. In addition, he is a prolific author who has written numerous books and papers about space and science. Tyson's passion and enthusiasm for science has made him a popular figure among both scientists and science enthusiasts. He's known for his ability to explain complex scientific concepts in a clear and entertaining way.\n",
        "\n"
      ]
    },
    {
      "cell_type": "markdown",
      "metadata": {},
      "source": [
        "### Save the biography to file"
      ]
    },
    {
      "cell_type": "code",
      "execution_count": null,
      "metadata": {},
      "outputs": [],
      "source": [
        "# Specify the file path\n",
        "file_path = \"bio.txt\"\n",
        "\n",
        "# Write the content to the file\n",
        "with open(file_path, \"w\") as file:\n",
        "    file.write(bio)"
      ]
    },
    {
      "cell_type": "markdown",
      "metadata": {},
      "source": [
        "## 4. Grounding with LangChain"
      ]
    },
    {
      "cell_type": "code",
      "execution_count": null,
      "metadata": {
        "gather": {
          "logged": 1710955358447
        }
      },
      "outputs": [],
      "source": [
        "def bing_grounding(input_dict:dict) -> dict:\n",
        "    print(\"Calling Bing Search API to get bio for guest...\\n\")\n",
        "    search_term = input_dict[\"guest\"]\n",
        "    print(\"Search term is \" + search_term)\n",
        "\n",
        "    headers = {\"Ocp-Apim-Subscription-Key\": bing_subscription_key}\n",
        "    params = {\"q\": search_term, \"textDecorations\": True, \"textFormat\": \"HTML\"}\n",
        "    response = requests.get(bing_search_url, headers=headers, params=params)\n",
        "    response.raise_for_status()\n",
        "    search_results = response.json()\n",
        "    #print(search_results)\n",
        "\n",
        "    # Parse out a bio.  \n",
        "    bio = search_results[\"webPages\"][\"value\"][0][\"snippet\"]\n",
        "    \n",
        "    print(\"Bio:\\n\")\n",
        "    print(bio)\n",
        "    print(\"\\n\")\n",
        "\n",
        "    return {\"bio\": bio}\n"
      ]
    },
    {
      "cell_type": "code",
      "execution_count": null,
      "metadata": {
        "gather": {
          "logged": 1710955363255
        },
        "jupyter": {
          "outputs_hidden": false,
          "source_hidden": false
        },
        "nteract": {
          "transient": {
            "deleting": false
          }
        }
      },
      "outputs": [],
      "source": [
        "bing_chain = TransformChain(input_variables=[\"guest\"], output_variables=[\"bio\"], transform=bing_grounding)\n",
        "bio = bing_chain.run(guest)\n"
      ]
    },
    {
      "cell_type": "markdown",
      "metadata": {},
      "source": [
        "### Save biography to file"
      ]
    },
    {
      "cell_type": "code",
      "execution_count": null,
      "metadata": {
        "gather": {
          "logged": 1710525482460
        },
        "jupyter": {
          "outputs_hidden": false,
          "source_hidden": false
        },
        "nteract": {
          "transient": {
            "deleting": false
          }
        }
      },
      "outputs": [],
      "source": [
        "# Specify the file path\n",
        "file_path = \"bio.txt\"\n",
        "\n",
        "# Write the content to the file\n",
        "with open(file_path, \"w\") as file:\n",
        "    file.write(bio)"
      ]
    }
  ],
  "metadata": {
    "kernel_info": {
      "name": "python310-sdkv2"
    },
    "kernelspec": {
      "display_name": "Python 3",
      "language": "python",
      "name": "python3"
    },
    "language_info": {
      "codemirror_mode": {
        "name": "ipython",
        "version": 3
      },
      "file_extension": ".py",
      "mimetype": "text/x-python",
      "name": "python",
      "nbconvert_exporter": "python",
      "pygments_lexer": "ipython3",
      "version": "3.10.13"
    },
    "microsoft": {
      "host": {
        "AzureML": {
          "notebookHasBeenCompleted": true
        }
      },
      "ms_spell_check": {
        "ms_spell_check_language": "en"
      }
    },
    "nteract": {
      "version": "nteract-front-end@1.0.0"
    }
  },
  "nbformat": 4,
  "nbformat_minor": 2
}
