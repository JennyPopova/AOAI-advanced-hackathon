{
  "cells": [
    {
      "cell_type": "code",
      "source": [
        "from langchain.chains import TransformChain\n",
        "import requests"
      ],
      "outputs": [],
      "execution_count": 13,
      "metadata": {
        "jupyter": {
          "source_hidden": false,
          "outputs_hidden": false
        },
        "nteract": {
          "transient": {
            "deleting": false
          }
        },
        "gather": {
          "logged": 1710523060697
        }
      }
    },
    {
      "cell_type": "code",
      "source": [
        "import os\n",
        "from dotenv import load_dotenv\n",
        "\n",
        "# Load environment variables\n",
        "if load_dotenv():\n",
        "    print(\"Found Azure OpenAI API Base Endpoint: \" + os.getenv(\"AZURE_OPENAI_ENDPOINT\"))\n",
        "else: \n",
        "    print(\"Azure OpenAI API Base Endpoint not found. Have you configured the .env file?\")\n"
      ],
      "outputs": [
        {
          "output_type": "stream",
          "name": "stdout",
          "text": "Found Azure OpenAI API Base Endpoint: https://swed-oai.openai.azure.com/\n"
        }
      ],
      "execution_count": 8,
      "metadata": {
        "jupyter": {
          "source_hidden": false,
          "outputs_hidden": false
        },
        "nteract": {
          "transient": {
            "deleting": false
          }
        },
        "gather": {
          "logged": 1710523000434
        }
      }
    },
    {
      "cell_type": "code",
      "source": [
        "bing_search_url = \"https://api.bing.microsoft.com/v7.0/search\"\n",
        "bing_subscription_key = os.getenv(\"BING_SUBSCRIPTION_KEY\")"
      ],
      "outputs": [],
      "execution_count": 9,
      "metadata": {
        "jupyter": {
          "source_hidden": false,
          "outputs_hidden": false
        },
        "nteract": {
          "transient": {
            "deleting": false
          }
        },
        "gather": {
          "logged": 1710523004612
        }
      }
    },
    {
      "cell_type": "code",
      "source": [
        "# Open the file\n",
        "with open('guest_name.txt', 'r') as f:\n",
        "    guest = f.read()\n",
        "\n",
        "# Print the content\n",
        "print(guest)"
      ],
      "outputs": [
        {
          "output_type": "stream",
          "name": "stdout",
          "text": "Neil deGrasse Tyson\n"
        }
      ],
      "execution_count": 29,
      "metadata": {
        "jupyter": {
          "source_hidden": false,
          "outputs_hidden": false
        },
        "nteract": {
          "transient": {
            "deleting": false
          }
        },
        "gather": {
          "logged": 1710689763761
        }
      }
    },
    {
      "cell_type": "code",
      "source": [
        "def bing_grounding(input_dict:dict) -> dict:\n",
        "    print(\"Calling Bing Search API to get bio for guest...\\n\")\n",
        "    search_term = input_dict[\"guest\"]\n",
        "    print(\"Search term is \" + search_term)\n",
        "\n",
        "    headers = {\"Ocp-Apim-Subscription-Key\": bing_subscription_key}\n",
        "    params = {\"q\": search_term, \"textDecorations\": True, \"textFormat\": \"HTML\"}\n",
        "    response = requests.get(bing_search_url, headers=headers, params=params)\n",
        "    response.raise_for_status()\n",
        "    search_results = response.json()\n",
        "    #print(search_results)\n",
        "\n",
        "    # Parse out a bio.  \n",
        "    bio = search_results[\"webPages\"][\"value\"][0][\"snippet\"]\n",
        "    \n",
        "    print(\"Bio:\\n\")\n",
        "    print(bio)\n",
        "    print(\"\\n\")\n",
        "\n",
        "    return {\"bio\": bio}\n"
      ],
      "outputs": [],
      "execution_count": 11,
      "metadata": {
        "gather": {
          "logged": 1710523014440
        }
      }
    },
    {
      "cell_type": "code",
      "source": [
        "bing_chain = TransformChain(input_variables=[\"guest\"], output_variables=[\"bio\"], transform=bing_grounding)\n",
        "bio = bing_chain.run(guest)\n"
      ],
      "outputs": [
        {
          "output_type": "stream",
          "name": "stdout",
          "text": "Calling Bing Search API to get bio for guest...\n\nSearch term is Neil deGrasse Tyson\nBio:\n\n<b><b>Neil deGrasse Tyson</b></b> (US: / d ə ˈ ɡ r æ s / də-GRASS or UK: / d ə ˈ ɡ r ɑː s / də-GRAHSS; born October 5, 1958) is an American astrophysicist, author, and science communicator<b>. <b>Tyso</b>n</b> studied at Harvard University , the University of Texas at Austin , and Columbia University .\n\n\n"
        }
      ],
      "execution_count": 14,
      "metadata": {
        "jupyter": {
          "source_hidden": false,
          "outputs_hidden": false
        },
        "nteract": {
          "transient": {
            "deleting": false
          }
        },
        "gather": {
          "logged": 1710523067320
        }
      }
    },
    {
      "cell_type": "code",
      "source": [
        "# Specify the file path\n",
        "file_path = \"bio.txt\"\n",
        "\n",
        "# Write the content to the file\n",
        "with open(file_path, \"w\") as file:\n",
        "    file.write(bio)"
      ],
      "outputs": [],
      "execution_count": 15,
      "metadata": {
        "jupyter": {
          "source_hidden": false,
          "outputs_hidden": false
        },
        "nteract": {
          "transient": {
            "deleting": false
          }
        },
        "gather": {
          "logged": 1710525482460
        }
      }
    },
    {
      "cell_type": "markdown",
      "source": [
        "# Function calling in Assistance API\n"
      ],
      "metadata": {
        "nteract": {
          "transient": {
            "deleting": false
          }
        }
      }
    },
    {
      "cell_type": "code",
      "source": [
        "import os\n",
        "from dotenv import load_dotenv\n",
        "\n",
        "load_dotenv()"
      ],
      "outputs": [
        {
          "output_type": "execute_result",
          "execution_count": 95,
          "data": {
            "text/plain": "True"
          },
          "metadata": {}
        }
      ],
      "execution_count": 95,
      "metadata": {
        "jupyter": {
          "source_hidden": false,
          "outputs_hidden": false
        },
        "nteract": {
          "transient": {
            "deleting": false
          }
        },
        "gather": {
          "logged": 1710692132103
        }
      }
    },
    {
      "cell_type": "code",
      "source": [
        "from openai import AzureOpenAI\n",
        "\n",
        "\n",
        "client = AzureOpenAI(\n",
        "    azure_endpoint = os.getenv(\"AZURE_OPENAI_ENDPOINT\"),\n",
        "    api_key = os.getenv(\"AZURE_OPENAI_API_KEY\"),\n",
        "    api_version = \"2023-12-01-preview\"\n",
        ")\n",
        "model =  os.getenv(\"AZURE_OPENAI_CHAT_MODEL\")\n",
        "print(model)"
      ],
      "outputs": [
        {
          "output_type": "stream",
          "name": "stdout",
          "text": "gpt-35-turbo\n"
        }
      ],
      "execution_count": 114,
      "metadata": {
        "jupyter": {
          "source_hidden": false,
          "outputs_hidden": false
        },
        "nteract": {
          "transient": {
            "deleting": false
          }
        },
        "gather": {
          "logged": 1710692670113
        }
      }
    },
    {
      "cell_type": "code",
      "source": [
        "bing_search_url = \"https://api.bing.microsoft.com/v7.0/search\"\n",
        "bing_subscription_key = os.getenv(\"BING_SUBSCRIPTION_KEY\")"
      ],
      "outputs": [],
      "execution_count": 126,
      "metadata": {
        "jupyter": {
          "source_hidden": false,
          "outputs_hidden": false
        },
        "nteract": {
          "transient": {
            "deleting": false
          }
        },
        "gather": {
          "logged": 1710693118046
        }
      }
    },
    {
      "cell_type": "code",
      "source": [
        "import json\n",
        "import requests\n",
        "import time\n",
        "\n",
        "from openai import AzureOpenAI\n",
        "from pathlib import Path\n",
        "from typing import Optional\n",
        "\n",
        "\n",
        "def search_bing(query):\n",
        "    \"\"\"\n",
        "    Perform a bing search against the given query\n",
        "\n",
        "    @param query: Search query\n",
        "    @return: List of search results\n",
        "\n",
        "    \"\"\"\n",
        "    headers = {\"Ocp-Apim-Subscription-Key\": bing_subscription_key}\n",
        "    params = {\"q\": query, \"textDecorations\": False}\n",
        "    response = requests.get(bing_search_url, headers=headers, params=params)\n",
        "    response.raise_for_status()\n",
        "    search_results = response.json()\n",
        "\n",
        "    output = []\n",
        "\n",
        "    for result in search_results[\"webPages\"][\"value\"]:\n",
        "        output.append({\"title\": result[\"name\"], \"link\": result[\"url\"], \"snippet\": result[\"snippet\"]})\n",
        "\n",
        "    return json.dumps(output)\n",
        "    "
      ],
      "outputs": [],
      "execution_count": 127,
      "metadata": {
        "jupyter": {
          "source_hidden": false,
          "outputs_hidden": false
        },
        "nteract": {
          "transient": {
            "deleting": false
          }
        },
        "gather": {
          "logged": 1710693119581
        }
      }
    },
    {
      "cell_type": "code",
      "source": [
        "search_bing(guest)"
      ],
      "outputs": [
        {
          "output_type": "execute_result",
          "execution_count": 128,
          "data": {
            "text/plain": "'[{\"title\": \"Neil deGrasse Tyson - Wikipedia\", \"link\": \"https://en.wikipedia.org/wiki/Neil_deGrasse_Tyson\", \"snippet\": \"Neil deGrasse Tyson (US: / d \\\\u0259 \\\\u02c8 \\\\u0261 r \\\\u00e6 s / d\\\\u0259-GRASS or UK: / d \\\\u0259 \\\\u02c8 \\\\u0261 r \\\\u0251\\\\u02d0 s / d\\\\u0259-GRAHSS; born October 5, 1958) is an American astrophysicist, author, and science communicator. Tyson studied at Harvard University , the University of Texas at Austin , and Columbia University .\"}, {\"title\": \"Neil deGrasse Tyson - Wikipedia\", \"link\": \"https://nl.wikipedia.org/wiki/Neil_deGrasse_Tyson\", \"snippet\": \"Neil deGrasse Tyson (New York, 5 oktober 1958) is een Amerikaanse astrofysicus en wetenschapscommunicator. Hij houdt zich onder meer bezig met stervorming, exploderende sterren, dwergstelsels en de structuur van de Melkweg.\"}, {\"title\": \"Neil deGrasse Tyson | Biography, Books, TV Shows, & Facts\", \"link\": \"https://www.britannica.com/biography/Neil-deGrasse-Tyson\", \"snippet\": \"Neil deGrasse Tyson, American astronomer who popularized science with his books and frequent appearances on radio and television. He hosted such TV series as Origins and NOVA scienceNOW as well as the radio show StarTalk. His books included The Pluto Files: The Rise and Fall of America\\\\u2019s Favorite Planet.\"}, {\"title\": \"Neil deGrasse Tyson\", \"link\": \"https://neildegrassetyson.com/\", \"snippet\": \"\\\\u00a9 2024 Neil deGrasse Tyson\"}, {\"title\": \"Profile : Neil deGrasse Tyson\", \"link\": \"https://neildegrassetyson.com/profile/\", \"snippet\": \"Learn about Neil deGrasse Tyson\\'s life, achievements, and books. He is a renowned scientist, educator, and communicator of science, who has hosted Cosmos, StarTalk, and other shows and projects.\"}, {\"title\": \"Curriculum Vitae : Neil deGrasse Tyson\", \"link\": \"https://neildegrassetyson.com/cv/\", \"snippet\": \"Learn about the education, employment history, research publications, books, and media appearances of Neil deGrasse Tyson, the astrophysicist and director of the Hayden Planetarium. Find out his honors, awards, and professional societies, as well as his upcoming projects and publications.\"}, {\"title\": \"Neil deGrasse Tyson: Biography, Astrophysicist, Cosmos\", \"link\": \"https://www.biography.com/scientists/neil-degrasse-tyson\", \"snippet\": \"Learn about the life and career of Neil deGrasse Tyson, an American astrophysicist who hosts Cosmos and StarTalk. Find out his achievements, controversies, and personal details.\"}, {\"title\": \"Neil deGrasse Tyson Thinks Science Can Reign Supreme Again\", \"link\": \"https://www.nytimes.com/interactive/2021/04/19/magazine/neil-degrasse-tyson-interview.html\", \"snippet\": \"The astrophysicist, who is 62, has achieved that status through his ever-expanding body of work in television, podcasting, journalism, social media and books (his latest is the new \\\\u201cCosmic...\"}, {\"title\": \"Neil deGrasse Tyson | The Planetary Society\", \"link\": \"https://www.planetary.org/profiles/neil-tyson\", \"snippet\": \"Learn about the astrophysicist and director of the Hayden Planetarium, Neil deGrasse Tyson, who is also a board member of The Planetary Society. Find out his research interests, education, publications, and public appearances on space exploration and science.\"}, {\"title\": \"Neil deGrasse Tyson on alien life, getting to Mars and locking ... - WIRED\", \"link\": \"https://www.wired.com/story/neil-degrasse-tyson-welcome-to-the-universe/\", \"snippet\": \"Neil deGrasse Tyson is an astrophysicist, director of New York\\'s Hayden Planetarium and author of 14 books about space. For decades, the 58-year-old has captured imaginations with his research on...\"}]'"
          },
          "metadata": {}
        }
      ],
      "execution_count": 128,
      "metadata": {
        "jupyter": {
          "source_hidden": false,
          "outputs_hidden": false
        },
        "nteract": {
          "transient": {
            "deleting": false
          }
        },
        "gather": {
          "logged": 1710693122801
        }
      }
    },
    {
      "cell_type": "code",
      "source": [
        "messages = [{\"role\": \"user\", \"content\": \"Provide the latest information about \"+guest}]\n",
        "\n",
        "tools = [\n",
        "    {\n",
        "        \"type\": \"function\",\n",
        "        \"function\": {\n",
        "            \"name\": \"search_bing\",\n",
        "            \"description\": \"Searches bing to get up-to-date information about people by their names.\",\n",
        "            \"parameters\": {\n",
        "                \"type\": \"object\",\n",
        "                \"properties\": {\n",
        "                    \"query\": {\n",
        "                        \"type\": \"string\",\n",
        "                        \"description\": \"The search query contains people names\",\n",
        "                    }\n",
        "                },\n",
        "                \"required\": [\"query\"],\n",
        "            },\n",
        "        },\n",
        "    }\n",
        "]"
      ],
      "outputs": [],
      "execution_count": 136,
      "metadata": {
        "jupyter": {
          "source_hidden": false,
          "outputs_hidden": false
        },
        "nteract": {
          "transient": {
            "deleting": false
          }
        },
        "gather": {
          "logged": 1710693563637
        }
      }
    },
    {
      "cell_type": "code",
      "source": [
        "response = client.chat.completions.create(\n",
        "        model=model,\n",
        "        messages=messages,\n",
        "        tools=tools,\n",
        "        tool_choice=\"auto\",  # auto is default, but we'll be explicit\n",
        "        )"
      ],
      "outputs": [],
      "execution_count": 137,
      "metadata": {
        "jupyter": {
          "source_hidden": false,
          "outputs_hidden": false
        },
        "nteract": {
          "transient": {
            "deleting": false
          }
        },
        "gather": {
          "logged": 1710693574106
        }
      }
    },
    {
      "cell_type": "code",
      "source": [
        "response_message = response.choices[0].message\n",
        "tool_calls = response_message.tool_calls\n",
        "print(response_message)\n",
        "print(tool_calls)"
      ],
      "outputs": [
        {
          "output_type": "stream",
          "name": "stdout",
          "text": "ChatCompletionMessage(content=None, role='assistant', function_call=None, tool_calls=[ChatCompletionMessageToolCall(id='call_VwS2D4W5DcBu7bCOrqBfv7qI', function=Function(arguments='{\\n  \"query\": \"Neil deGrasse Tyson\"\\n}', name='search_bing'), type='function')])\n[ChatCompletionMessageToolCall(id='call_VwS2D4W5DcBu7bCOrqBfv7qI', function=Function(arguments='{\\n  \"query\": \"Neil deGrasse Tyson\"\\n}', name='search_bing'), type='function')]\n"
        }
      ],
      "execution_count": 138,
      "metadata": {
        "jupyter": {
          "source_hidden": false,
          "outputs_hidden": false
        },
        "nteract": {
          "transient": {
            "deleting": false
          }
        },
        "gather": {
          "logged": 1710693575611
        }
      }
    },
    {
      "cell_type": "code",
      "source": [
        "if tool_calls:\n",
        "        # Step 3: call the function\n",
        "        # Note: the JSON response may not always be valid; be sure to handle errors\n",
        "        available_functions = {\n",
        "            \"search_bing\": search_bing,\n",
        "        }  # only one function in this example, but you can have multiple\n",
        "        messages.append(response_message)  # extend conversation with assistant's reply\n",
        "        # Step 4: send the info for each function call and function response to the model\n",
        "        for tool_call in tool_calls:\n",
        "            function_name = tool_call.function.name\n",
        "            function_to_call = available_functions[function_name]\n",
        "            function_args = json.loads(tool_call.function.arguments)\n",
        "            function_response = function_to_call(\n",
        "                query=function_args.get(\"query\")\n",
        "            )\n",
        "            messages.append(\n",
        "                {\n",
        "                    \"tool_call_id\": tool_call.id,\n",
        "                    \"role\": \"tool\",\n",
        "                    \"name\": function_name,\n",
        "                    \"content\": function_response,\n",
        "                }\n",
        "            )  # extend conversation with function response\n",
        "second_response = client.chat.completions.create(\n",
        "            model=model,\n",
        "            messages=messages,\n",
        "        )  # get a new response from the model where it can see the function response"
      ],
      "outputs": [],
      "execution_count": 139,
      "metadata": {
        "jupyter": {
          "source_hidden": false,
          "outputs_hidden": false
        },
        "nteract": {
          "transient": {
            "deleting": false
          }
        },
        "gather": {
          "logged": 1710693583137
        }
      }
    },
    {
      "cell_type": "code",
      "source": [
        "bio = second_response.choices[0].message.content\n",
        "print(bio)"
      ],
      "outputs": [
        {
          "output_type": "stream",
          "name": "stdout",
          "text": "Neil deGrasse Tyson is an American astrophysicist, author, and science communicator. He was born on October 5, 1958. Tyson is known for his expertise in astrophysics, as well as his ability to popularize science through various media platforms.\n\nHe studied at Harvard University, the University of Texas at Austin, and Columbia University. Tyson has made significant contributions to the field of astrophysics, particularly in the areas of star formation, exploding stars, dwarf galaxies, and the structure of the Milky Way.\n\nTyson has hosted several popular science television series, including \"Origins,\" \"NOVA scienceNOW,\" and the revival of Carl Sagan's \"Cosmos.\" He also hosts a radio show called \"StarTalk.\"\n\nAs an author, Tyson has written several books, including \"The Pluto Files: The Rise and Fall of America's Favorite Planet,\" which explores the controversy over the reclassification of Pluto as a dwarf planet. He continues to engage and educate the public through his books, television appearances, podcasts, journalism, and social media presence.\n\nTyson serves as the director of the Hayden Planetarium and is actively involved in space exploration and scientific research. He has received numerous honors and awards for his work in science communication, including the NASA Distinguished Public Service Medal.\n\nFor the latest updates and information about Neil deGrasse Tyson, you can visit his official website at [neildegrassetyson.com](https://neildegrassetyson.com/).\n"
        }
      ],
      "execution_count": 144,
      "metadata": {
        "jupyter": {
          "source_hidden": false,
          "outputs_hidden": false
        },
        "nteract": {
          "transient": {
            "deleting": false
          }
        },
        "gather": {
          "logged": 1710693741787
        }
      }
    },
    {
      "cell_type": "code",
      "source": [
        "# Specify the file path\n",
        "file_path = \"bio.txt\"\n",
        "\n",
        "# Write the content to the file\n",
        "with open(file_path, \"w\") as file:\n",
        "    file.write(bio)"
      ],
      "outputs": [],
      "execution_count": 145,
      "metadata": {
        "jupyter": {
          "source_hidden": false,
          "outputs_hidden": false
        },
        "nteract": {
          "transient": {
            "deleting": false
          }
        },
        "gather": {
          "logged": 1710693750999
        }
      }
    }
  ],
  "metadata": {
    "kernelspec": {
      "name": "python310-sdkv2",
      "language": "python",
      "display_name": "Python 3.10 - SDK v2"
    },
    "language_info": {
      "name": "python",
      "version": "3.10.11",
      "mimetype": "text/x-python",
      "codemirror_mode": {
        "name": "ipython",
        "version": 3
      },
      "pygments_lexer": "ipython3",
      "nbconvert_exporter": "python",
      "file_extension": ".py"
    },
    "microsoft": {
      "ms_spell_check": {
        "ms_spell_check_language": "en"
      },
      "host": {
        "AzureML": {
          "notebookHasBeenCompleted": true
        }
      }
    },
    "kernel_info": {
      "name": "python310-sdkv2"
    },
    "nteract": {
      "version": "nteract-front-end@1.0.0"
    }
  },
  "nbformat": 4,
  "nbformat_minor": 2
}