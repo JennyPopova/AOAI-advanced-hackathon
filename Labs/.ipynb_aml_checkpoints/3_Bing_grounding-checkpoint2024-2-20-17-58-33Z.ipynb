{
  "cells": [
    {
      "cell_type": "code",
      "source": [
        "from langchain.chains import TransformChain\n",
        "import requests"
      ],
      "outputs": [],
      "execution_count": 8,
      "metadata": {
        "jupyter": {
          "source_hidden": false,
          "outputs_hidden": false
        },
        "nteract": {
          "transient": {
            "deleting": false
          }
        },
        "gather": {
          "logged": 1710955352321
        }
      }
    },
    {
      "cell_type": "code",
      "source": [
        "import os\n",
        "from dotenv import load_dotenv\n",
        "\n",
        "# Load environment variables\n",
        "if load_dotenv():\n",
        "    print(\"Found Azure OpenAI API Base Endpoint: \" + os.getenv(\"AZURE_OPENAI_ENDPOINT\"))\n",
        "else: \n",
        "    print(\"Azure OpenAI API Base Endpoint not found. Have you configured the .env file?\")\n"
      ],
      "outputs": [
        {
          "output_type": "stream",
          "name": "stdout",
          "text": "Found Azure OpenAI API Base Endpoint: https://swed-oai.openai.azure.com/\n"
        }
      ],
      "execution_count": 1,
      "metadata": {
        "jupyter": {
          "source_hidden": false,
          "outputs_hidden": false
        },
        "nteract": {
          "transient": {
            "deleting": false
          }
        },
        "gather": {
          "logged": 1710955262803
        }
      }
    },
    {
      "cell_type": "code",
      "source": [
        "bing_search_url = \"https://api.bing.microsoft.com/v7.0/search\"\n",
        "bing_subscription_key = os.getenv(\"BING_SUBSCRIPTION_KEY\")"
      ],
      "outputs": [],
      "execution_count": 2,
      "metadata": {
        "jupyter": {
          "source_hidden": false,
          "outputs_hidden": false
        },
        "nteract": {
          "transient": {
            "deleting": false
          }
        },
        "gather": {
          "logged": 1710955265935
        }
      }
    },
    {
      "cell_type": "code",
      "source": [
        "# Open the file\n",
        "with open('guest_name.txt', 'r') as f:\n",
        "    guest = f.read()\n",
        "\n",
        "# Print the content\n",
        "print(guest)"
      ],
      "outputs": [
        {
          "output_type": "stream",
          "name": "stdout",
          "text": "Neil deGrasse Tyson\n"
        }
      ],
      "execution_count": 3,
      "metadata": {
        "jupyter": {
          "source_hidden": false,
          "outputs_hidden": false
        },
        "nteract": {
          "transient": {
            "deleting": false
          }
        },
        "gather": {
          "logged": 1710955272314
        }
      }
    },
    {
      "cell_type": "code",
      "source": [
        "def bing_grounding(input_dict:dict) -> dict:\n",
        "    print(\"Calling Bing Search API to get bio for guest...\\n\")\n",
        "    search_term = input_dict[\"guest\"]\n",
        "    print(\"Search term is \" + search_term)\n",
        "\n",
        "    headers = {\"Ocp-Apim-Subscription-Key\": bing_subscription_key}\n",
        "    params = {\"q\": search_term, \"textDecorations\": True, \"textFormat\": \"HTML\"}\n",
        "    response = requests.get(bing_search_url, headers=headers, params=params)\n",
        "    response.raise_for_status()\n",
        "    search_results = response.json()\n",
        "    #print(search_results)\n",
        "\n",
        "    # Parse out a bio.  \n",
        "    bio = search_results[\"webPages\"][\"value\"][0][\"snippet\"]\n",
        "    \n",
        "    print(\"Bio:\\n\")\n",
        "    print(bio)\n",
        "    print(\"\\n\")\n",
        "\n",
        "    return {\"bio\": bio}\n"
      ],
      "outputs": [],
      "execution_count": 9,
      "metadata": {
        "gather": {
          "logged": 1710955358447
        }
      }
    },
    {
      "cell_type": "code",
      "source": [
        "bing_chain = TransformChain(input_variables=[\"guest\"], output_variables=[\"bio\"], transform=bing_grounding)\n",
        "bio = bing_chain.run(guest)\n"
      ],
      "outputs": [
        {
          "output_type": "stream",
          "name": "stdout",
          "text": "Calling Bing Search API to get bio for guest...\n\nSearch term is Neil deGrasse Tyson\nBio:\n\n<b><b>Neil deGrasse Tyson</b></b> (US: / d ə ˈ ɡ r æ s / də-GRASS or UK: / d ə ˈ ɡ r ɑː s / də-GRAHSS; born October 5, 1958) is an American astrophysicist, author, and science communicator<b>. <b>Tyso</b>n</b> studied at Harvard University , the University of Texas at Austin , and Columbia University .\n\n\n"
        }
      ],
      "execution_count": 10,
      "metadata": {
        "jupyter": {
          "source_hidden": false,
          "outputs_hidden": false
        },
        "nteract": {
          "transient": {
            "deleting": false
          }
        },
        "gather": {
          "logged": 1710955363255
        }
      }
    },
    {
      "cell_type": "code",
      "source": [
        "# Specify the file path\n",
        "file_path = \"bio.txt\"\n",
        "\n",
        "# Write the content to the file\n",
        "with open(file_path, \"w\") as file:\n",
        "    file.write(bio)"
      ],
      "outputs": [],
      "execution_count": 15,
      "metadata": {
        "jupyter": {
          "source_hidden": false,
          "outputs_hidden": false
        },
        "nteract": {
          "transient": {
            "deleting": false
          }
        },
        "gather": {
          "logged": 1710525482460
        }
      }
    },
    {
      "cell_type": "markdown",
      "source": [
        "# Function calling in Assistance API\n"
      ],
      "metadata": {
        "nteract": {
          "transient": {
            "deleting": false
          }
        }
      }
    },
    {
      "cell_type": "code",
      "source": [
        "import os\n",
        "from dotenv import load_dotenv\n",
        "import json\n",
        "from openai import AzureOpenAI\n",
        "\n",
        "# load environment variables\n",
        "load_dotenv()"
      ],
      "outputs": [
        {
          "output_type": "execute_result",
          "execution_count": 17,
          "data": {
            "text/plain": "True"
          },
          "metadata": {}
        }
      ],
      "execution_count": 17,
      "metadata": {
        "jupyter": {
          "source_hidden": false,
          "outputs_hidden": false
        },
        "nteract": {
          "transient": {
            "deleting": false
          }
        },
        "gather": {
          "logged": 1710955606958
        }
      }
    },
    {
      "cell_type": "code",
      "source": [
        "\n",
        "import requests\n",
        "import time\n",
        "\n",
        "\n",
        "from pathlib import Path\n",
        "from typing import Optional"
      ],
      "outputs": [],
      "execution_count": null,
      "metadata": {
        "jupyter": {
          "source_hidden": false,
          "outputs_hidden": false
        },
        "nteract": {
          "transient": {
            "deleting": false
          }
        }
      }
    },
    {
      "cell_type": "code",
      "source": [
        "client = AzureOpenAI(\n",
        "    azure_endpoint = os.getenv(\"AZURE_OPENAI_ENDPOINT\"),\n",
        "    api_key = os.getenv(\"AZURE_OPENAI_API_KEY\"),\n",
        "    api_version = \"2023-12-01-preview\"\n",
        ")\n",
        "model =  os.getenv(\"AZURE_OPENAI_CHAT_MODEL\")\n",
        "print(model)"
      ],
      "outputs": [
        {
          "output_type": "stream",
          "name": "stdout",
          "text": "gpt-4\n"
        }
      ],
      "execution_count": 14,
      "metadata": {
        "jupyter": {
          "source_hidden": false,
          "outputs_hidden": false
        },
        "nteract": {
          "transient": {
            "deleting": false
          }
        },
        "gather": {
          "logged": 1710955576060
        }
      }
    },
    {
      "cell_type": "markdown",
      "source": [
        "## Define function to perform Bing search"
      ],
      "metadata": {
        "nteract": {
          "transient": {
            "deleting": false
          }
        }
      }
    },
    {
      "cell_type": "code",
      "source": [
        "def search_bing(query):\n",
        "    \"\"\"\n",
        "    Perform a bing search against the given query\n",
        "\n",
        "    @param query: Search query\n",
        "    @return: List of search results\n",
        "\n",
        "    \"\"\"\n",
        "    headers = {\"Ocp-Apim-Subscription-Key\": bing_subscription_key}\n",
        "    params = {\"q\": query, \"textDecorations\": False}\n",
        "    response = requests.get(bing_search_url, headers=headers, params=params)\n",
        "    response.raise_for_status()\n",
        "    search_results = response.json()\n",
        "\n",
        "    output = []\n",
        "\n",
        "    for result in search_results[\"webPages\"][\"value\"]:\n",
        "        output.append({\"title\": result[\"name\"], \"link\": result[\"url\"], \"snippet\": result[\"snippet\"]})\n",
        "\n",
        "    return json.dumps(output)\n",
        "    "
      ],
      "outputs": [],
      "execution_count": 15,
      "metadata": {
        "jupyter": {
          "source_hidden": false,
          "outputs_hidden": false
        },
        "nteract": {
          "transient": {
            "deleting": false
          }
        },
        "gather": {
          "logged": 1710955584289
        }
      }
    },
    {
      "cell_type": "markdown",
      "source": [
        "## Test Bing search and evaluate the search results"
      ],
      "metadata": {
        "nteract": {
          "transient": {
            "deleting": false
          }
        }
      }
    },
    {
      "cell_type": "code",
      "source": [
        "search_bing(guest)"
      ],
      "outputs": [
        {
          "output_type": "execute_result",
          "execution_count": 18,
          "data": {
            "text/plain": "'[{\"title\": \"Neil deGrasse Tyson - Wikipedia\", \"link\": \"https://en.wikipedia.org/wiki/Neil_deGrasse_Tyson\", \"snippet\": \"Neil deGrasse Tyson (US: / d \\\\u0259 \\\\u02c8 \\\\u0261 r \\\\u00e6 s / d\\\\u0259-GRASS or UK: / d \\\\u0259 \\\\u02c8 \\\\u0261 r \\\\u0251\\\\u02d0 s / d\\\\u0259-GRAHSS; born October 5, 1958) is an American astrophysicist, author, and science communicator. Tyson studied at Harvard University , the University of Texas at Austin , and Columbia University .\"}, {\"title\": \"Neil deGrasse Tyson - Wikipedia\", \"link\": \"https://nl.wikipedia.org/wiki/Neil_deGrasse_Tyson\", \"snippet\": \"Neil deGrasse Tyson (New York, 5 oktober 1958) is een Amerikaanse astrofysicus en wetenschapscommunicator. Hij houdt zich onder meer bezig met stervorming, exploderende sterren, dwergstelsels en de structuur van de Melkweg.\"}, {\"title\": \"Neil deGrasse Tyson\", \"link\": \"https://neildegrassetyson.com/\", \"snippet\": \"\\\\u00a9 2024 Neil deGrasse Tyson\"}, {\"title\": \"Neil deGrasse Tyson | Biography, Books, TV Shows, & Facts\", \"link\": \"https://www.britannica.com/biography/Neil-deGrasse-Tyson\", \"snippet\": \"Neil deGrasse Tyson, American astronomer who popularized science with his books and frequent appearances on radio and television. He hosted such TV series as Origins and NOVA scienceNOW as well as the radio show StarTalk. His books included The Pluto Files: The Rise and Fall of America\\\\u2019s Favorite Planet.\"}, {\"title\": \"Profile : Neil deGrasse Tyson\", \"link\": \"https://neildegrassetyson.com/profile/\", \"snippet\": \"Tyson is the fifth head of the world-renowned Hayden Planetarium in New York City and the first occupant of its Frederick P. Rose Directorship. He is also a research associate of the Department of Astrophysics at the American Museum of Natural History.\"}, {\"title\": \"Curriculum Vitae : Neil deGrasse Tyson\", \"link\": \"https://neildegrassetyson.com/cv/\", \"snippet\": \"Curriculum Vitae | Neil deGrasse Tyson. Contents. Summary. Education. Employment History. Research Publications. Books. Chapters and Forewords. Assorted Writing. Major Media Appearances. Assorted Film Appearances. Assorted Television Appearances. Notable Script References. Professional Societies. Selected Honors. Honorary Doctorates. Grants Awarded\"}, {\"title\": \"Neil deGrasse Tyson: Biography, Astrophysicist, Cosmos\", \"link\": \"https://www.biography.com/scientists/neil-degrasse-tyson\", \"snippet\": \"Neil deGrasse Tyson is an American astrophysicist who hosted \\'NOVA ScienceNow\\' and makes media appearances to encourage science and space exploration. By Biography.com Editors Updated: Feb 8, 2024\"}, {\"title\": \"Neil deGrasse Tyson | The Planetary Society\", \"link\": \"https://www.planetary.org/profiles/neil-tyson\", \"snippet\": \"Neil deGrasse Tyson | The Planetary Society. Astrophysicist and Director, Hayden Planetarium, American Museum of Natural History. A childhood glimpse of the Moon through binoculars helped steer Neil deGrasse Tyson towards his lifelong passion for science, space exploration, and unraveling the universe\\'s far flung mysteries.\"}, {\"title\": \"Neil deGrasse Tyson Thinks Science Can Reign Supreme Again\", \"link\": \"https://www.nytimes.com/interactive/2021/04/19/magazine/neil-degrasse-tyson-interview.html\", \"snippet\": \"The astrophysicist, who is 62, has achieved that status through his ever-expanding body of work in television, podcasting, journalism, social media and books (his latest is the new \\\\u201cCosmic...\"}, {\"title\": \"The Life and Times of the Famous Astrophysicist Neil deGrasse Tyson\", \"link\": \"https://interestingengineering.com/culture/the-life-and-times-of-astrophysicist-and-tvstar-neil-degrasse-tyson\", \"snippet\": \"Neil deGrasse Tyson is a highly accomplished astrophysicist, planetary scientist, author, and something of a celebrity science educator to millions of people around the world. He is also the...\"}]'"
          },
          "metadata": {}
        }
      ],
      "execution_count": 18,
      "metadata": {
        "jupyter": {
          "source_hidden": false,
          "outputs_hidden": false
        },
        "nteract": {
          "transient": {
            "deleting": false
          }
        },
        "gather": {
          "logged": 1710955611454
        }
      }
    },
    {
      "cell_type": "markdown",
      "source": [
        "## Create a prompt for GPT model"
      ],
      "metadata": {
        "nteract": {
          "transient": {
            "deleting": false
          }
        }
      }
    },
    {
      "cell_type": "code",
      "source": [
        "messages = [{\"role\": \"user\", \"content\": \"Provide a very short biography of \"+guest + \" including lates events\"}]"
      ],
      "outputs": [],
      "execution_count": 41,
      "metadata": {
        "jupyter": {
          "source_hidden": false,
          "outputs_hidden": false
        },
        "nteract": {
          "transient": {
            "deleting": false
          }
        },
        "gather": {
          "logged": 1710957257649
        }
      }
    },
    {
      "cell_type": "markdown",
      "source": [
        "## Test GPT model response without grounding"
      ],
      "metadata": {
        "nteract": {
          "transient": {
            "deleting": false
          }
        }
      }
    },
    {
      "cell_type": "code",
      "source": [
        "gpt_response = client.chat.completions.create(\n",
        "            model=model,\n",
        "            messages=messages,\n",
        "        )  # get a new response from the model where it can see the function response\n",
        "    \n",
        "bio = gpt_response.choices[0].message.content\n",
        "print(bio)"
      ],
      "outputs": [
        {
          "output_type": "stream",
          "name": "stdout",
          "text": "Neil deGrasse Tyson is a prominent American astrophysicist, cosmologist, author, and science communicator. Born on October 5, 1958, in Manhattan, New York, Tyson developed an early interest in astronomy and decided to dedicate his life to the field after visiting the Hayden Planetarium at a young age. Tyson earned a BA in Physics from Harvard University before completing his PhD in Astrophysics at Columbia University.\n\nHe has served as the Frederick P. Rose Director of the Hayden Planetarium at the Rose Center for Earth and Space in New York City since 1996. Tyson is well-known for hosting the educational science television show \"NOVA ScienceNow\" on PBS from 2006 to 2011 and more recently, the television series \"Cosmos: A Spacetime Odyssey\", a sequel to the late Carl Sagan's renowned series \"Cosmos: A Personal Voyage\".\n\nTyson is a prolific author, writing several books on astronomy and space, with the most recent being \"Cosmic Queries: StarTalk’s Guide to Who We Are, How We Got Here, and Where We're Going\", published in 2021. He is also the host of the podcast \"StarTalk\", where he discusses various aspects of science with famous guests.\n\nIn the latest events, Tyson remains an active advocate for science, contributing regularly to television, radio, and social media platforms to simplify complex scientific concepts for public understanding.\n"
        }
      ],
      "execution_count": 42,
      "metadata": {
        "jupyter": {
          "source_hidden": false,
          "outputs_hidden": false
        },
        "nteract": {
          "transient": {
            "deleting": false
          }
        },
        "gather": {
          "logged": 1710957284726
        }
      }
    },
    {
      "cell_type": "markdown",
      "source": [
        "## Define Tools for GPT model, that include Bing search function"
      ],
      "metadata": {
        "nteract": {
          "transient": {
            "deleting": false
          }
        }
      }
    },
    {
      "cell_type": "code",
      "source": [
        "#messages = [{\"role\": \"user\", \"content\": \"Provide the latest information about \"+guest}]\n",
        "\n",
        "tools = [\n",
        "    {\n",
        "        \"type\": \"function\",\n",
        "        \"function\": {\n",
        "            \"name\": \"search_bing\",\n",
        "            \"description\": \"Searches bing to get up-to-date information about people\",\n",
        "            \"parameters\": {\n",
        "                \"type\": \"object\",\n",
        "                \"properties\": {\n",
        "                    \"query\": {\n",
        "                        \"type\": \"string\",\n",
        "                        \"description\": \"The search query\",\n",
        "                    }\n",
        "                },\n",
        "                \"required\": [\"query\"],\n",
        "            },\n",
        "        },\n",
        "    }\n",
        "]"
      ],
      "outputs": [],
      "execution_count": 37,
      "metadata": {
        "jupyter": {
          "source_hidden": false,
          "outputs_hidden": false
        },
        "nteract": {
          "transient": {
            "deleting": false
          }
        },
        "gather": {
          "logged": 1710957012118
        }
      }
    },
    {
      "cell_type": "markdown",
      "source": [
        "## Send request to GPT model and see if there any tools calling"
      ],
      "metadata": {
        "nteract": {
          "transient": {
            "deleting": false
          }
        }
      }
    },
    {
      "cell_type": "code",
      "source": [
        "response = client.chat.completions.create(\n",
        "        model=model,\n",
        "        messages=messages,\n",
        "        tools=tools,\n",
        "        tool_choice=\"auto\",  # auto is default, but we'll be explicit\n",
        "        )\n",
        "\n",
        "response_message = response.choices[0].message\n",
        "tool_calls = response_message.tool_calls\n",
        "print(response_message)\n",
        "print(tool_calls)"
      ],
      "outputs": [
        {
          "output_type": "stream",
          "name": "stdout",
          "text": "ChatCompletionMessage(content=None, role='assistant', function_call=None, tool_calls=[ChatCompletionMessageToolCall(id='call_Gq2UMNrOQe1uqmMTZhO98YcB', function=Function(arguments='{\\n  \"query\": \"Neil deGrasse Tyson biography\"\\n}', name='search_bing'), type='function')])\n[ChatCompletionMessageToolCall(id='call_Gq2UMNrOQe1uqmMTZhO98YcB', function=Function(arguments='{\\n  \"query\": \"Neil deGrasse Tyson biography\"\\n}', name='search_bing'), type='function')]\n"
        }
      ],
      "execution_count": 38,
      "metadata": {
        "jupyter": {
          "source_hidden": false,
          "outputs_hidden": false
        },
        "nteract": {
          "transient": {
            "deleting": false
          }
        },
        "gather": {
          "logged": 1710957018935
        }
      }
    },
    {
      "cell_type": "markdown",
      "source": [
        "## Go through function calling and extract messages to see Bing search results"
      ],
      "metadata": {
        "nteract": {
          "transient": {
            "deleting": false
          }
        }
      }
    },
    {
      "cell_type": "code",
      "source": [
        "if tool_calls:\n",
        "        # Step 3: call the function\n",
        "        # Note: the JSON response may not always be valid; be sure to handle errors\n",
        "        available_functions = {\n",
        "            \"search_bing\": search_bing,\n",
        "        }  # only one function in this example, but you can have multiple\n",
        "        messages.append(response_message)  # extend conversation with assistant's reply\n",
        "        # Step 4: send the info for each function call and function response to the model\n",
        "        for tool_call in tool_calls:\n",
        "            function_name = tool_call.function.name\n",
        "            function_to_call = available_functions[function_name]\n",
        "            function_args = json.loads(tool_call.function.arguments)\n",
        "            function_response = function_to_call(\n",
        "                query=function_args.get(\"query\")\n",
        "            )\n",
        "            messages.append(\n",
        "                {\n",
        "                    \"tool_call_id\": tool_call.id,\n",
        "                    \"role\": \"tool\",\n",
        "                    \"name\": function_name,\n",
        "                    \"content\": function_response,\n",
        "                }\n",
        "            )  # extend conversation with function response\n",
        "print(messages)"
      ],
      "outputs": [
        {
          "output_type": "stream",
          "name": "stdout",
          "text": "[{'role': 'user', 'content': 'Provide a very short biography of Neil deGrasse Tyson including lates events'}, ChatCompletionMessage(content=None, role='assistant', function_call=None, tool_calls=[ChatCompletionMessageToolCall(id='call_Gq2UMNrOQe1uqmMTZhO98YcB', function=Function(arguments='{\\n  \"query\": \"Neil deGrasse Tyson biography\"\\n}', name='search_bing'), type='function')]), {'tool_call_id': 'call_Gq2UMNrOQe1uqmMTZhO98YcB', 'role': 'tool', 'name': 'search_bing', 'content': '[{\"title\": \"Neil deGrasse Tyson - Wikipedia\", \"link\": \"https://en.wikipedia.org/wiki/Neil_deGrasse_Tyson\", \"snippet\": \"Neil deGrasse Tyson (US: / d \\\\u0259 \\\\u02c8 \\\\u0261 r \\\\u00e6 s / d\\\\u0259-GRASS or UK: / d \\\\u0259 \\\\u02c8 \\\\u0261 r \\\\u0251\\\\u02d0 s / d\\\\u0259-GRAHSS; born October 5, 1958) is an American astrophysicist, author, and science communicator. Tyson studied at Harvard University , the University of Texas at Austin , and Columbia University .\"}, {\"title\": \"Neil deGrasse Tyson: Biography, Astrophysicist, Cosmos\", \"link\": \"https://www.biography.com/scientists/neil-degrasse-tyson\", \"snippet\": \"Learn about the life and career of Neil deGrasse Tyson, an American astrophysicist, author and media personality. Find out his achievements, controversies, books and TV shows.\"}, {\"title\": \"Neil deGrasse Tyson | Biography, Books, TV Shows, & Facts\", \"link\": \"https://www.britannica.com/biography/Neil-deGrasse-Tyson\", \"snippet\": \"Neil deGrasse Tyson, American astronomer who popularized science with his books and frequent appearances on radio and television. He hosted such TV series as Origins and NOVA scienceNOW as well as the radio show StarTalk. His books included The Pluto Files: The Rise and Fall of America\\\\u2019s Favorite Planet.\"}, {\"title\": \"Neil deGrasse Tyson - Wikipedia\", \"link\": \"https://nl.wikipedia.org/wiki/Neil_deGrasse_Tyson\", \"snippet\": \"Neil deGrasse Tyson (New York, 5 oktober 1958) is een Amerikaanse astrofysicus en wetenschapscommunicator. Hij houdt zich onder meer bezig met stervorming, exploderende sterren, dwergstelsels en de structuur van de Melkweg.\"}, {\"title\": \"About : Neil deGrasse Tyson\", \"link\": \"https://neildegrassetyson.com/about/\", \"snippet\": \"About. Tyson is the fifth head since 1935 of the world-renowned Hayden Planetarium in New York City and the first occupant of its Frederick P. Rose Directorship. He is also a research associate of the Department of Astrophysics at the American Museum of Natural History.\"}, {\"title\": \"Curriculum Vitae : Neil deGrasse Tyson\", \"link\": \"https://neildegrassetyson.com/cv/\", \"snippet\": \"Neil deGrasse Tyson and the staff of StarTalk Radio & Television. National Geographic Books (Washington, DC), September 2016. A playful compendium of the science, humor, and pop culture, which, when woven together, comprises the award winning StarTalk Radio & Television show.\"}, {\"title\": \"Profile : Neil deGrasse Tyson\", \"link\": \"https://neildegrassetyson.com/profile/\", \"snippet\": \"Learn about the life and achievements of Neil deGrasse Tyson, an astrophysicist, author, and host of Cosmos. Find out his education, awards, books, and roles in science and media.\"}, {\"title\": \"Neil deGrasse Tyson - Biography, Facts and Pictures - Famous Scientists\", \"link\": \"https://www.famousscientists.org/neil-degrasse-tyson/\", \"snippet\": \"Learn about the life and achievements of Neil deGrasse Tyson, a popular American astrophysicist and science communicator. Find out his academic background, career, books, awards, and views on science and religion.\"}, {\"title\": \"The Life and Times of Neil DeGrasse Tyson - ThoughtCo\", \"link\": \"https://www.thoughtco.com/neil-degrasse-tyson-biography-3072239\", \"snippet\": \"Learn about the life and achievements of Neil DeGrasse Tyson, the director of the Hayden Planetarium and host of COSMOS. Find out how he became interested in astronomy, what he researched, and what he wrote.\"}, {\"title\": \"Neil deGrasse Tyson | The Planetary Society\", \"link\": \"https://www.planetary.org/profiles/neil-tyson\", \"snippet\": \"Learn about the life and work of Neil deGrasse Tyson, an astrophysicist, director of the Hayden Planetarium, and host of Cosmos. Find out his research interests, awards, books, and latest appearances on Planetary Radio.\"}]'}]\n"
        }
      ],
      "execution_count": 43,
      "metadata": {
        "jupyter": {
          "source_hidden": false,
          "outputs_hidden": false
        },
        "nteract": {
          "transient": {
            "deleting": false
          }
        },
        "gather": {
          "logged": 1710957340512
        }
      }
    },
    {
      "cell_type": "markdown",
      "source": [
        "## Ask GPT model to generate short bio of the person based on search results"
      ],
      "metadata": {
        "nteract": {
          "transient": {
            "deleting": false
          }
        }
      }
    },
    {
      "cell_type": "code",
      "source": [
        "second_response = client.chat.completions.create(\n",
        "            model=model,\n",
        "            messages=messages,\n",
        "        )  # get a new response from the model where it can see the function response\n",
        "    \n",
        "bio = second_response.choices[0].message.content\n",
        "print(bio)"
      ],
      "outputs": [
        {
          "output_type": "stream",
          "name": "stdout",
          "text": "Neil deGrasse Tyson is an American astrophysicist, author, and science communicator. He was born on October 5, 1958. Tyson studied at Harvard University, the University of Texas at Austin, and Columbia University. He is renowned for popularizing science with his books and regular appearances on radio and television. Tyson’s television hosting roles have included TV series such as Origins and NOVA scienceNOW, as well as the radio show StarTalk. \n\nTyson is the fifth head since 1935 of the world-renowned Hayden Planetarium in New York City, occupying its Frederick P. Rose Directorship and also a research associate of the Department of Astrophysics at the American Museum of Natural History. Some of his notable books include “The Pluto Files: The Rise and Fall of America’s Favorite Planet”.\n\nOne of the latest appearances of Tyson was in the television show \"Cosmos: Possible Worlds\" in 2020.\n"
        }
      ],
      "execution_count": 44,
      "metadata": {
        "jupyter": {
          "source_hidden": false,
          "outputs_hidden": false
        },
        "nteract": {
          "transient": {
            "deleting": false
          }
        },
        "gather": {
          "logged": 1710957365912
        }
      }
    },
    {
      "cell_type": "markdown",
      "source": [
        "### Compare with output created without grounding\n",
        "Neil deGrasse Tyson is a prominent American astrophysicist, cosmologist, author, and science communicator. Born on October 5, 1958, in Manhattan, New York, Tyson developed an early interest in astronomy and decided to dedicate his life to the field after visiting the Hayden Planetarium at a young age. Tyson earned a BA in Physics from Harvard University before completing his PhD in Astrophysics at Columbia University.\n",
        "\n",
        "He has served as the Frederick P. Rose Director of the Hayden Planetarium at the Rose Center for Earth and Space in New York City since 1996. Tyson is well-known for hosting the educational science television show \"NOVA ScienceNow\" on PBS from 2006 to 2011 and more recently, the television series \"Cosmos: A Spacetime Odyssey\", a sequel to the late Carl Sagan's renowned series \"Cosmos: A Personal Voyage\".\n",
        "\n",
        "Tyson is a prolific author, writing several books on astronomy and space, with the most recent being \"Cosmic Queries: StarTalk’s Guide to Who We Are, How We Got Here, and Where We're Going\", published in 2021. He is also the host of the podcast \"StarTalk\", where he discusses various aspects of science with famous guests.\n",
        "\n",
        "In the latest events, Tyson remains an active advocate for science, contributing regularly to television, radio, and social media platforms to simplify complex scientific concepts for public understanding."
      ],
      "metadata": {
        "nteract": {
          "transient": {
            "deleting": false
          }
        }
      }
    },
    {
      "cell_type": "markdown",
      "source": [
        "## Save the biography in file"
      ],
      "metadata": {
        "nteract": {
          "transient": {
            "deleting": false
          }
        }
      }
    },
    {
      "cell_type": "code",
      "source": [
        "# Specify the file path\n",
        "file_path = \"bio.txt\"\n",
        "\n",
        "# Write the content to the file\n",
        "with open(file_path, \"w\") as file:\n",
        "    file.write(bio)"
      ],
      "outputs": [],
      "execution_count": 45,
      "metadata": {
        "jupyter": {
          "source_hidden": false,
          "outputs_hidden": false
        },
        "nteract": {
          "transient": {
            "deleting": false
          }
        },
        "gather": {
          "logged": 1710957483385
        }
      }
    }
  ],
  "metadata": {
    "kernelspec": {
      "name": "python310-sdkv2",
      "language": "python",
      "display_name": "Python 3.10 - SDK v2"
    },
    "language_info": {
      "name": "python",
      "version": "3.10.11",
      "mimetype": "text/x-python",
      "codemirror_mode": {
        "name": "ipython",
        "version": 3
      },
      "pygments_lexer": "ipython3",
      "nbconvert_exporter": "python",
      "file_extension": ".py"
    },
    "microsoft": {
      "ms_spell_check": {
        "ms_spell_check_language": "en"
      },
      "host": {
        "AzureML": {
          "notebookHasBeenCompleted": true
        }
      }
    },
    "kernel_info": {
      "name": "python310-sdkv2"
    },
    "nteract": {
      "version": "nteract-front-end@1.0.0"
    }
  },
  "nbformat": 4,
  "nbformat_minor": 2
}