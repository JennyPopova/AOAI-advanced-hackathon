{
  "cells": [
    {
      "cell_type": "code",
      "source": [
        "from langchain.chat_models import AzureChatOpenAI\n",
        "from langchain.chains import TransformChain, LLMChain, SequentialChain\n",
        "from langchain.prompts import (\n",
        "    PromptTemplate,\n",
        "    ChatPromptTemplate,\n",
        "    SystemMessagePromptTemplate,\n",
        "    AIMessagePromptTemplate,\n",
        "    HumanMessagePromptTemplate,\n",
        ")"
      ],
      "outputs": [],
      "execution_count": 25,
      "metadata": {
        "jupyter": {
          "source_hidden": false,
          "outputs_hidden": false
        },
        "nteract": {
          "transient": {
            "deleting": false
          }
        },
        "gather": {
          "logged": 1710777641175
        }
      }
    },
    {
      "cell_type": "code",
      "source": [
        "# Open the file\n",
        "with open('social_media_post.txt', 'r') as f:\n",
        "    social_media_post = f.read()\n",
        "\n",
        "# Print the content\n",
        "print(social_media_post)"
      ],
      "outputs": [
        {
          "output_type": "stream",
          "name": "stdout",
          "text": "In our newest episode of Behind the Tech, I had the privilege of chatting with none other than Neil deGrasse Tyson, America's best known astrophysicist and a revered advocate for the sciences. With his exceptional ability to simplify complex concepts, Neil has made science accessible and exciting for all. As a host of numerous space-related programs, director of the Hayden Planetarium, and author of several influential books, Neil's contributions to the field are unparalleled. \n\nOur conversation delved into the importance of communicating about technology and science to the public, a skill Neil has mastered and I aspire to emulate. Join us for an enlightening discussion about astrophysics, space exploration, and the role technology plays in our understanding of the universe.\n\nTune in to learn from one of the greatest science communicators of our time. As always, we're exploring what's behind the tech that's changing our world. #BehindTheTech #Podcast #Technology #Science #SpaceExploration #NeilDeGrasseTyson\n"
        }
      ],
      "execution_count": 1,
      "metadata": {
        "jupyter": {
          "source_hidden": false,
          "outputs_hidden": false
        },
        "nteract": {
          "transient": {
            "deleting": false
          }
        },
        "gather": {
          "logged": 1710779611527
        }
      }
    },
    {
      "cell_type": "code",
      "source": [
        "import os\n",
        "from dotenv import load_dotenv\n",
        "\n",
        "# Load environment variables\n",
        "if load_dotenv():\n",
        "    print(\"Found Azure OpenAI API Base Endpoint: \" + os.getenv(\"AZURE_OPENAI_ENDPOINT\"))\n",
        "else: \n",
        "    print(\"Azure OpenAI API Base Endpoint not found. Have you configured the .env file?\")"
      ],
      "outputs": [
        {
          "output_type": "stream",
          "name": "stdout",
          "text": "Found Azure OpenAI API Base Endpoint: https://swed-oai.openai.azure.com/\n"
        }
      ],
      "execution_count": 2,
      "metadata": {
        "jupyter": {
          "source_hidden": false,
          "outputs_hidden": false
        },
        "nteract": {
          "transient": {
            "deleting": false
          }
        },
        "gather": {
          "logged": 1710779616056
        }
      }
    },
    {
      "cell_type": "code",
      "source": [
        "azure_endpoint = os.getenv(\"AZURE_OPENAI_ENDPOINT\")\n",
        "api_key = os.getenv(\"AZURE_OPENAI_API_KEY\")\n",
        "api_version = os.getenv(\"AZURE_OPENAI_API_VERSION\")\n",
        "\n",
        "model =  os.getenv(\"AZURE_OPENAI_CHAT_MODEL\")\n",
        "print(model)"
      ],
      "outputs": [
        {
          "output_type": "stream",
          "name": "stdout",
          "text": "gpt-4\n"
        }
      ],
      "execution_count": 6,
      "metadata": {
        "jupyter": {
          "source_hidden": false,
          "outputs_hidden": false
        },
        "nteract": {
          "transient": {
            "deleting": false
          }
        },
        "gather": {
          "logged": 1710779916446
        }
      }
    },
    {
      "cell_type": "code",
      "source": [
        "from openai import AzureOpenAI\n",
        "import os\n",
        "import requests\n",
        "from PIL import Image\n",
        "import json\n",
        "\n",
        "client = AzureOpenAI(\n",
        "    api_version=\"2024-02-15-preview\",  \n",
        "    api_key=api_key,  \n",
        "    azure_endpoint=azure_endpoint\n",
        ")\n",
        "\n",
        "result = client.audio.speech.create(\n",
        "    model=\"tts-hd\", # the name of your text-to-speech deployment\n",
        "    input=social_media_post,\n",
        "    voice = \"alloy\"\n",
        ")"
      ],
      "outputs": [],
      "execution_count": 11,
      "metadata": {
        "jupyter": {
          "source_hidden": false,
          "outputs_hidden": false
        },
        "nteract": {
          "transient": {
            "deleting": false
          }
        },
        "gather": {
          "logged": 1710780467838
        }
      }
    },
    {
      "cell_type": "code",
      "source": [
        "speech_file_path = \"speech.mp3\"\n",
        "result.stream_to_file(speech_file_path)\n",
        "print(f\"Spoken audio generated from input text saved as {speech_file_path}\")"
      ],
      "outputs": [
        {
          "output_type": "stream",
          "name": "stdout",
          "text": "Spoken audio generated from input text saved as speech.mp3\n"
        },
        {
          "output_type": "stream",
          "name": "stderr",
          "text": "/tmp/ipykernel_12427/1789319300.py:2: DeprecationWarning: Due to a bug, this method doesn't actually stream the response content, `.with_streaming_response.method()` should be used instead\n  result.stream_to_file(speech_file_path)\n"
        }
      ],
      "execution_count": 12,
      "metadata": {
        "jupyter": {
          "source_hidden": false,
          "outputs_hidden": false
        },
        "nteract": {
          "transient": {
            "deleting": false
          }
        },
        "gather": {
          "logged": 1710780536196
        }
      }
    }
  ],
  "metadata": {
    "kernelspec": {
      "name": "python310-sdkv2",
      "language": "python",
      "display_name": "Python 3.10 - SDK v2"
    },
    "language_info": {
      "name": "python",
      "version": "3.10.11",
      "mimetype": "text/x-python",
      "codemirror_mode": {
        "name": "ipython",
        "version": 3
      },
      "pygments_lexer": "ipython3",
      "nbconvert_exporter": "python",
      "file_extension": ".py"
    },
    "microsoft": {
      "ms_spell_check": {
        "ms_spell_check_language": "en"
      },
      "host": {
        "AzureML": {
          "notebookHasBeenCompleted": true
        }
      }
    },
    "kernel_info": {
      "name": "python310-sdkv2"
    },
    "nteract": {
      "version": "nteract-front-end@1.0.0"
    }
  },
  "nbformat": 4,
  "nbformat_minor": 2
}