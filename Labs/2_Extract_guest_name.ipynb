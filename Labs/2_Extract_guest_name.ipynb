{
  "cells": [
    {
      "cell_type": "markdown",
      "metadata": {
        "nteract": {
          "transient": {
            "deleting": false
          }
        }
      },
      "source": [
        "# Overview\n",
        "Azure OpenAI GPT, a cutting-edge language model, offers advanced natural language processing capabilities. With its state-of-the-art performance, Azure OpenAI GPT can process and understand complex instructions, making it an essential asset for businesses and developers who require high-speed and precise language comprehension. Its integration with Azure's cloud services ensures a robust and scalable platform for deploying AI applications.\n",
        "\n",
        "### Goals\n",
        "Use Azure OpenAI GPT model in Python to identify the guest's name from a podcast transcript.\n",
        "\n",
        "- Input the transcribed text from the MP3 audio file into the Azure OpenAI GPT model.\n",
        "- Utilize the model's advanced parsing abilities to accurately determine the name of the guest featured in the podcast."
      ]
    },
    {
      "cell_type": "markdown",
      "metadata": {
        "nteract": {
          "transient": {
            "deleting": false
          }
        }
      },
      "source": [
        "### Get transcription from file saved in previous lab\n",
        "To retrieve the transcription from the file saved in the previous lab, you can use the following code:\n",
        "\n"
      ]
    },
    {
      "cell_type": "code",
      "execution_count": null,
      "metadata": {
        "gather": {
          "logged": 1710954783133
        },
        "jupyter": {
          "outputs_hidden": false,
          "source_hidden": false
        },
        "nteract": {
          "transient": {
            "deleting": false
          }
        }
      },
      "outputs": [],
      "source": [
        "# Open the file\n",
        "with open('transcript.txt', 'r') as f:\n",
        "    transcript = f.read()\n",
        "\n",
        "# Print the content\n",
        "print(transcript)"
      ]
    },
    {
      "cell_type": "markdown",
      "metadata": {
        "nteract": {
          "transient": {
            "deleting": false
          }
        }
      },
      "source": [
        "### Connect to Azure OpenAI service\n",
        "The provided code is importing the `load_dotenv` function from the `dotenv` module and using it to load environment variables from a `.env`"
      ]
    },
    {
      "cell_type": "code",
      "execution_count": null,
      "metadata": {
        "gather": {
          "logged": 1710954856279
        },
        "jupyter": {
          "outputs_hidden": false,
          "source_hidden": false
        },
        "nteract": {
          "transient": {
            "deleting": false
          }
        }
      },
      "outputs": [],
      "source": [
        "import os\n",
        "from dotenv import load_dotenv\n",
        "\n",
        "# Load environment variables\n",
        "if load_dotenv():\n",
        "    print(\"Found Azure OpenAI API Base Endpoint: \" + os.getenv(\"AZURE_OPENAI_ENDPOINT\"))\n",
        "else: \n",
        "    print(\"Azure OpenAI API Base Endpoint not found. Have you configured the .env file?\")"
      ]
    },
    {
      "cell_type": "markdown",
      "metadata": {},
      "source": [
        "This Python code snippet is used to create a client for the Azure OpenAI service. The client is used to interact with the OpenAI API, which provides various AI capabilities such as natural language processing, machine learning models, and more."
      ]
    },
    {
      "cell_type": "code",
      "execution_count": null,
      "metadata": {
        "gather": {
          "logged": 1710954860681
        },
        "jupyter": {
          "outputs_hidden": false,
          "source_hidden": false
        },
        "nteract": {
          "transient": {
            "deleting": false
          }
        }
      },
      "outputs": [],
      "source": [
        "from openai import AzureOpenAI\n",
        "\n",
        "client = AzureOpenAI(\n",
        "    azure_endpoint = os.getenv(\"AZURE_OPENAI_ENDPOINT\"),\n",
        "    api_key = os.getenv(\"AZURE_OPENAI_API_KEY\"),\n",
        "    api_version = os.getenv(\"AZURE_OPENAI_API_VERSION\")\n",
        ")\n",
        "\n",
        "model =  os.getenv(\"AZURE_OPENAI_CHAT_MODEL\")\n",
        "print(model)"
      ]
    },
    {
      "cell_type": "markdown",
      "metadata": {
        "nteract": {
          "transient": {
            "deleting": false
          }
        }
      },
      "source": [
        "### Send request to GPT model\n",
        "This Python code snippet is used to call Azure OpenAI's GPT model. The completion is used to extract the guest name from a transcript of the \"Beyond the Tech\" podcast.\n",
        "\n",
        "- The `client.chat.completions.create` function is called to create a chat completion. This function takes two arguments: `model` and `messages`.\n",
        "\n",
        "- The `messages` argument is a list of dictionaries, each representing a message in the chat. Each dictionary has two keys: `role` and `content`. The `role` can be \"assistant\", \"user\", or \"system\", and the `content` is the text of the message.\n",
        "\n",
        "- The first message is from the assistant and provides the task: to extract the guest name from a transcript of the \"Beyond the Tech\" podcast.\n",
        "\n",
        "- The second message is from the user and contains the transcript of the podcast.\n",
        "\n",
        "- The third message is from the system and provides additional instructions: to extract just a person's name and to keep the answer short.\n"
      ]
    },
    {
      "cell_type": "code",
      "execution_count": null,
      "metadata": {
        "gather": {
          "logged": 1710954913166
        },
        "jupyter": {
          "outputs_hidden": false,
          "source_hidden": false
        },
        "nteract": {
          "transient": {
            "deleting": false
          }
        }
      },
      "outputs": [],
      "source": [
        "response = client.chat.completions.create(\n",
        "    model =  model,\n",
        "    messages = [{\"role\" : \"assistant\", \"content\" : \"Extract the guest name on the Beyond the Tech podcast from the following transcript.  \\\n",
        "         Beyond the Tech is hosted by Kevin Scott and Christina Warren, so they will never be the guests. \\n\\n Host name: Kevin Scott\\n\\n Guest name: \"}, \\\n",
        "         {\"role\": \"user\", \"content\": transcript},\n",
        "         {\"role\": \"system\", \"content\": \"extract just a person name, be short with your answer\"}]\n",
        ")\n",
        "\n",
        "print(response)\n"
      ]
    },
    {
      "cell_type": "markdown",
      "metadata": {
        "nteract": {
          "transient": {
            "deleting": false
          }
        }
      },
      "source": [
        "### Get guest name from the model response"
      ]
    },
    {
      "cell_type": "code",
      "execution_count": null,
      "metadata": {
        "gather": {
          "logged": 1710954920528
        },
        "jupyter": {
          "outputs_hidden": false,
          "source_hidden": false
        },
        "nteract": {
          "transient": {
            "deleting": false
          }
        }
      },
      "outputs": [],
      "source": [
        "guest = (response.choices[0].message.content)\n",
        "print(guest)"
      ]
    },
    {
      "cell_type": "markdown",
      "metadata": {
        "nteract": {
          "transient": {
            "deleting": false
          }
        }
      },
      "source": [
        "### Save guest name into file\n",
        "This Python code snippet is used to write the guest's name into `\"guest_name.txt\"` text file."
      ]
    },
    {
      "cell_type": "code",
      "execution_count": null,
      "metadata": {
        "gather": {
          "logged": 1710954950516
        },
        "jupyter": {
          "outputs_hidden": false,
          "source_hidden": false
        },
        "nteract": {
          "transient": {
            "deleting": false
          }
        }
      },
      "outputs": [],
      "source": [
        "# Specify the file path\n",
        "file_path = \"guest_name.txt\"\n",
        "\n",
        "# Write the content to the file\n",
        "with open(file_path, \"w\") as file:\n",
        "    file.write(guest)"
      ]
    }
  ],
  "metadata": {
    "kernel_info": {
      "name": "python310-sdkv2"
    },
    "kernelspec": {
      "display_name": "Python 3",
      "language": "python",
      "name": "python3"
    },
    "language_info": {
      "codemirror_mode": {
        "name": "ipython",
        "version": 3
      },
      "file_extension": ".py",
      "mimetype": "text/x-python",
      "name": "python",
      "nbconvert_exporter": "python",
      "pygments_lexer": "ipython3",
      "version": "3.10.13"
    },
    "microsoft": {
      "host": {
        "AzureML": {
          "notebookHasBeenCompleted": true
        }
      },
      "ms_spell_check": {
        "ms_spell_check_language": "en"
      }
    },
    "nteract": {
      "version": "nteract-front-end@1.0.0"
    }
  },
  "nbformat": 4,
  "nbformat_minor": 2
}
